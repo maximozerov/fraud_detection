{
 "cells": [
  {
   "cell_type": "code",
   "execution_count": 1,
   "id": "85701509-abcf-42b3-bd61-8ad2e16d1de7",
   "metadata": {},
   "outputs": [],
   "source": [
    "import pandas as pd\n",
    "import numpy as np\n",
    "from matplotlib import pyplot as plt\n",
    "import seaborn as sns\n",
    "%matplotlib inline"
   ]
  },
  {
   "cell_type": "code",
   "execution_count": 2,
   "id": "c43a03ad-f41e-4ee5-8975-716cac8f2f8d",
   "metadata": {},
   "outputs": [],
   "source": [
    "from sklearn.pipeline import Pipeline\n",
    "from sklearn.metrics import confusion_matrix\n",
    "from sklearn.metrics import classification_report\n",
    "from sklearn.model_selection import train_test_split\n",
    "from sklearn.preprocessing import FunctionTransformer, LabelEncoder, OneHotEncoder\n",
    "from sklearn.ensemble import RandomForestClassifier\n",
    "\n",
    "from imblearn.under_sampling import RandomUnderSampler\n",
    "import matplotlib.pyplot as plt\n",
    "import xgboost as xgb\n",
    "from sklearn.model_selection import GridSearchCV\n",
    "from category_encoders.binary import BinaryEncoder\n",
    "from sklearn.preprocessing import StandardScaler\n",
    "import category_encoders as ce"
   ]
  },
  {
   "cell_type": "code",
   "execution_count": 13,
   "id": "28439e44-3669-40e7-935d-b5539202bac5",
   "metadata": {},
   "outputs": [
    {
     "data": {
      "text/html": [
       "<div>\n",
       "<style scoped>\n",
       "    .dataframe tbody tr th:only-of-type {\n",
       "        vertical-align: middle;\n",
       "    }\n",
       "\n",
       "    .dataframe tbody tr th {\n",
       "        vertical-align: top;\n",
       "    }\n",
       "\n",
       "    .dataframe thead th {\n",
       "        text-align: right;\n",
       "    }\n",
       "</style>\n",
       "<table border=\"1\" class=\"dataframe\">\n",
       "  <thead>\n",
       "    <tr style=\"text-align: right;\">\n",
       "      <th></th>\n",
       "      <th>User</th>\n",
       "      <th>Card</th>\n",
       "      <th>Year</th>\n",
       "      <th>Month</th>\n",
       "      <th>Day</th>\n",
       "      <th>Amount</th>\n",
       "      <th>Use Chip</th>\n",
       "      <th>Merchant Name</th>\n",
       "      <th>Merchant City</th>\n",
       "      <th>Merchant State</th>\n",
       "      <th>Zip</th>\n",
       "      <th>MCC</th>\n",
       "      <th>Errors?</th>\n",
       "      <th>Is Fraud?</th>\n",
       "      <th>Hour</th>\n",
       "      <th>Minute</th>\n",
       "      <th>Date</th>\n",
       "      <th>Day of Week</th>\n",
       "    </tr>\n",
       "  </thead>\n",
       "  <tbody>\n",
       "    <tr>\n",
       "      <th>0</th>\n",
       "      <td>791</td>\n",
       "      <td>1</td>\n",
       "      <td>1991</td>\n",
       "      <td>1</td>\n",
       "      <td>2</td>\n",
       "      <td>68.00</td>\n",
       "      <td>Swipe Transaction</td>\n",
       "      <td>2027553650310142703</td>\n",
       "      <td>Burke</td>\n",
       "      <td>VA</td>\n",
       "      <td>22015.0</td>\n",
       "      <td>5541</td>\n",
       "      <td>NaN</td>\n",
       "      <td>0</td>\n",
       "      <td>7</td>\n",
       "      <td>10</td>\n",
       "      <td>1991-01-02</td>\n",
       "      <td>Ср</td>\n",
       "    </tr>\n",
       "    <tr>\n",
       "      <th>1</th>\n",
       "      <td>791</td>\n",
       "      <td>1</td>\n",
       "      <td>1991</td>\n",
       "      <td>1</td>\n",
       "      <td>2</td>\n",
       "      <td>-68.00</td>\n",
       "      <td>Swipe Transaction</td>\n",
       "      <td>2027553650310142703</td>\n",
       "      <td>Burke</td>\n",
       "      <td>VA</td>\n",
       "      <td>22015.0</td>\n",
       "      <td>5541</td>\n",
       "      <td>NaN</td>\n",
       "      <td>0</td>\n",
       "      <td>7</td>\n",
       "      <td>17</td>\n",
       "      <td>1991-01-02</td>\n",
       "      <td>Ср</td>\n",
       "    </tr>\n",
       "    <tr>\n",
       "      <th>2</th>\n",
       "      <td>791</td>\n",
       "      <td>1</td>\n",
       "      <td>1991</td>\n",
       "      <td>1</td>\n",
       "      <td>2</td>\n",
       "      <td>113.62</td>\n",
       "      <td>Swipe Transaction</td>\n",
       "      <td>2027553650310142703</td>\n",
       "      <td>Burke</td>\n",
       "      <td>VA</td>\n",
       "      <td>22015.0</td>\n",
       "      <td>5541</td>\n",
       "      <td>NaN</td>\n",
       "      <td>0</td>\n",
       "      <td>7</td>\n",
       "      <td>21</td>\n",
       "      <td>1991-01-02</td>\n",
       "      <td>Ср</td>\n",
       "    </tr>\n",
       "  </tbody>\n",
       "</table>\n",
       "</div>"
      ],
      "text/plain": [
       "   User  Card  Year  Month  Day  Amount           Use Chip  \\\n",
       "0   791     1  1991      1    2   68.00  Swipe Transaction   \n",
       "1   791     1  1991      1    2  -68.00  Swipe Transaction   \n",
       "2   791     1  1991      1    2  113.62  Swipe Transaction   \n",
       "\n",
       "         Merchant Name Merchant City Merchant State      Zip   MCC Errors?  \\\n",
       "0  2027553650310142703         Burke             VA  22015.0  5541     NaN   \n",
       "1  2027553650310142703         Burke             VA  22015.0  5541     NaN   \n",
       "2  2027553650310142703         Burke             VA  22015.0  5541     NaN   \n",
       "\n",
       "   Is Fraud?  Hour  Minute        Date Day of Week  \n",
       "0          0     7      10  1991-01-02          Ср  \n",
       "1          0     7      17  1991-01-02          Ср  \n",
       "2          0     7      21  1991-01-02          Ср  "
      ]
     },
     "execution_count": 13,
     "metadata": {},
     "output_type": "execute_result"
    }
   ],
   "source": [
    "df_train = pd.read_csv('../data/processed/train.csv')\n",
    "df_val = pd.read_csv('../data/processed/val.csv')\n",
    "\n",
    "df = pd.concat([df_train, df_val])\n",
    "df.head(3)"
   ]
  },
  {
   "cell_type": "code",
   "execution_count": 15,
   "id": "9b7e47cc-76ff-4c55-890c-fb9a2c00b185",
   "metadata": {},
   "outputs": [],
   "source": [
    "# Освобождаем память\n",
    "df_train = None\n",
    "df_val = None"
   ]
  },
  {
   "cell_type": "code",
   "execution_count": 16,
   "id": "b9d6249a-f57e-493e-9fde-483d1e6040b9",
   "metadata": {},
   "outputs": [
    {
     "data": {
      "text/html": [
       "<div>\n",
       "<style scoped>\n",
       "    .dataframe tbody tr th:only-of-type {\n",
       "        vertical-align: middle;\n",
       "    }\n",
       "\n",
       "    .dataframe tbody tr th {\n",
       "        vertical-align: top;\n",
       "    }\n",
       "\n",
       "    .dataframe thead th {\n",
       "        text-align: right;\n",
       "    }\n",
       "</style>\n",
       "<table border=\"1\" class=\"dataframe\">\n",
       "  <thead>\n",
       "    <tr style=\"text-align: right;\">\n",
       "      <th></th>\n",
       "      <th>User</th>\n",
       "      <th>Card</th>\n",
       "      <th>Year</th>\n",
       "      <th>Month</th>\n",
       "      <th>Day</th>\n",
       "      <th>Amount</th>\n",
       "      <th>Merchant Name</th>\n",
       "      <th>Zip</th>\n",
       "      <th>MCC</th>\n",
       "      <th>Is Fraud?</th>\n",
       "      <th>Hour</th>\n",
       "      <th>Minute</th>\n",
       "    </tr>\n",
       "  </thead>\n",
       "  <tbody>\n",
       "    <tr>\n",
       "      <th>count</th>\n",
       "      <td>2.232646e+07</td>\n",
       "      <td>2.232646e+07</td>\n",
       "      <td>2.232646e+07</td>\n",
       "      <td>2.232646e+07</td>\n",
       "      <td>2.232646e+07</td>\n",
       "      <td>2.232646e+07</td>\n",
       "      <td>2.232646e+07</td>\n",
       "      <td>1.972173e+07</td>\n",
       "      <td>2.232646e+07</td>\n",
       "      <td>2.232646e+07</td>\n",
       "      <td>2.232646e+07</td>\n",
       "      <td>2.232646e+07</td>\n",
       "    </tr>\n",
       "    <tr>\n",
       "      <th>mean</th>\n",
       "      <td>1.000710e+03</td>\n",
       "      <td>1.360057e+00</td>\n",
       "      <td>2.011290e+03</td>\n",
       "      <td>6.600846e+00</td>\n",
       "      <td>1.572576e+01</td>\n",
       "      <td>4.372723e+01</td>\n",
       "      <td>-4.755679e+17</td>\n",
       "      <td>5.094795e+04</td>\n",
       "      <td>5.561286e+03</td>\n",
       "      <td>1.239337e-03</td>\n",
       "      <td>1.241636e+01</td>\n",
       "      <td>2.958867e+01</td>\n",
       "    </tr>\n",
       "    <tr>\n",
       "      <th>std</th>\n",
       "      <td>5.692805e+02</td>\n",
       "      <td>1.411045e+00</td>\n",
       "      <td>4.819365e+00</td>\n",
       "      <td>3.444029e+00</td>\n",
       "      <td>8.797106e+00</td>\n",
       "      <td>8.225740e+01</td>\n",
       "      <td>4.758167e+18</td>\n",
       "      <td>2.939073e+04</td>\n",
       "      <td>8.791978e+02</td>\n",
       "      <td>3.518239e-02</td>\n",
       "      <td>5.064357e+00</td>\n",
       "      <td>1.731777e+01</td>\n",
       "    </tr>\n",
       "    <tr>\n",
       "      <th>min</th>\n",
       "      <td>0.000000e+00</td>\n",
       "      <td>0.000000e+00</td>\n",
       "      <td>1.991000e+03</td>\n",
       "      <td>1.000000e+00</td>\n",
       "      <td>1.000000e+00</td>\n",
       "      <td>-5.000000e+02</td>\n",
       "      <td>-9.222899e+18</td>\n",
       "      <td>5.010000e+02</td>\n",
       "      <td>1.711000e+03</td>\n",
       "      <td>0.000000e+00</td>\n",
       "      <td>0.000000e+00</td>\n",
       "      <td>0.000000e+00</td>\n",
       "    </tr>\n",
       "    <tr>\n",
       "      <th>25%</th>\n",
       "      <td>5.100000e+02</td>\n",
       "      <td>0.000000e+00</td>\n",
       "      <td>2.008000e+03</td>\n",
       "      <td>4.000000e+00</td>\n",
       "      <td>8.000000e+00</td>\n",
       "      <td>9.220000e+00</td>\n",
       "      <td>-4.500543e+18</td>\n",
       "      <td>2.837900e+04</td>\n",
       "      <td>5.300000e+03</td>\n",
       "      <td>0.000000e+00</td>\n",
       "      <td>9.000000e+00</td>\n",
       "      <td>1.500000e+01</td>\n",
       "    </tr>\n",
       "    <tr>\n",
       "      <th>50%</th>\n",
       "      <td>1.006000e+03</td>\n",
       "      <td>1.000000e+00</td>\n",
       "      <td>2.012000e+03</td>\n",
       "      <td>7.000000e+00</td>\n",
       "      <td>1.600000e+01</td>\n",
       "      <td>3.023000e+01</td>\n",
       "      <td>-7.820165e+17</td>\n",
       "      <td>4.674100e+04</td>\n",
       "      <td>5.499000e+03</td>\n",
       "      <td>0.000000e+00</td>\n",
       "      <td>1.200000e+01</td>\n",
       "      <td>3.000000e+01</td>\n",
       "    </tr>\n",
       "    <tr>\n",
       "      <th>75%</th>\n",
       "      <td>1.476000e+03</td>\n",
       "      <td>2.000000e+00</td>\n",
       "      <td>2.015000e+03</td>\n",
       "      <td>1.000000e+01</td>\n",
       "      <td>2.300000e+01</td>\n",
       "      <td>6.532000e+01</td>\n",
       "      <td>3.189517e+18</td>\n",
       "      <td>7.756300e+04</td>\n",
       "      <td>5.812000e+03</td>\n",
       "      <td>0.000000e+00</td>\n",
       "      <td>1.600000e+01</td>\n",
       "      <td>4.500000e+01</td>\n",
       "    </tr>\n",
       "    <tr>\n",
       "      <th>max</th>\n",
       "      <td>1.999000e+03</td>\n",
       "      <td>8.000000e+00</td>\n",
       "      <td>2.018000e+03</td>\n",
       "      <td>1.200000e+01</td>\n",
       "      <td>3.100000e+01</td>\n",
       "      <td>1.239050e+04</td>\n",
       "      <td>9.223292e+18</td>\n",
       "      <td>9.992800e+04</td>\n",
       "      <td>9.402000e+03</td>\n",
       "      <td>1.000000e+00</td>\n",
       "      <td>2.300000e+01</td>\n",
       "      <td>5.900000e+01</td>\n",
       "    </tr>\n",
       "  </tbody>\n",
       "</table>\n",
       "</div>"
      ],
      "text/plain": [
       "               User          Card          Year         Month           Day  \\\n",
       "count  2.232646e+07  2.232646e+07  2.232646e+07  2.232646e+07  2.232646e+07   \n",
       "mean   1.000710e+03  1.360057e+00  2.011290e+03  6.600846e+00  1.572576e+01   \n",
       "std    5.692805e+02  1.411045e+00  4.819365e+00  3.444029e+00  8.797106e+00   \n",
       "min    0.000000e+00  0.000000e+00  1.991000e+03  1.000000e+00  1.000000e+00   \n",
       "25%    5.100000e+02  0.000000e+00  2.008000e+03  4.000000e+00  8.000000e+00   \n",
       "50%    1.006000e+03  1.000000e+00  2.012000e+03  7.000000e+00  1.600000e+01   \n",
       "75%    1.476000e+03  2.000000e+00  2.015000e+03  1.000000e+01  2.300000e+01   \n",
       "max    1.999000e+03  8.000000e+00  2.018000e+03  1.200000e+01  3.100000e+01   \n",
       "\n",
       "             Amount  Merchant Name           Zip           MCC     Is Fraud?  \\\n",
       "count  2.232646e+07   2.232646e+07  1.972173e+07  2.232646e+07  2.232646e+07   \n",
       "mean   4.372723e+01  -4.755679e+17  5.094795e+04  5.561286e+03  1.239337e-03   \n",
       "std    8.225740e+01   4.758167e+18  2.939073e+04  8.791978e+02  3.518239e-02   \n",
       "min   -5.000000e+02  -9.222899e+18  5.010000e+02  1.711000e+03  0.000000e+00   \n",
       "25%    9.220000e+00  -4.500543e+18  2.837900e+04  5.300000e+03  0.000000e+00   \n",
       "50%    3.023000e+01  -7.820165e+17  4.674100e+04  5.499000e+03  0.000000e+00   \n",
       "75%    6.532000e+01   3.189517e+18  7.756300e+04  5.812000e+03  0.000000e+00   \n",
       "max    1.239050e+04   9.223292e+18  9.992800e+04  9.402000e+03  1.000000e+00   \n",
       "\n",
       "               Hour        Minute  \n",
       "count  2.232646e+07  2.232646e+07  \n",
       "mean   1.241636e+01  2.958867e+01  \n",
       "std    5.064357e+00  1.731777e+01  \n",
       "min    0.000000e+00  0.000000e+00  \n",
       "25%    9.000000e+00  1.500000e+01  \n",
       "50%    1.200000e+01  3.000000e+01  \n",
       "75%    1.600000e+01  4.500000e+01  \n",
       "max    2.300000e+01  5.900000e+01  "
      ]
     },
     "execution_count": 16,
     "metadata": {},
     "output_type": "execute_result"
    }
   ],
   "source": [
    "df.describe()"
   ]
  },
  {
   "cell_type": "code",
   "execution_count": 17,
   "id": "be5849ee-1dea-4686-be5f-0690ed1e067d",
   "metadata": {},
   "outputs": [
    {
     "data": {
      "text/plain": [
       "(0.0012393365325863094, 27670)"
      ]
     },
     "execution_count": 17,
     "metadata": {},
     "output_type": "execute_result"
    }
   ],
   "source": [
    "df['Is Fraud?'].mean(), df['Is Fraud?'].sum()"
   ]
  },
  {
   "cell_type": "code",
   "execution_count": 18,
   "id": "10ceb36b-0796-438e-b441-ac407826bc5f",
   "metadata": {},
   "outputs": [],
   "source": [
    "# Subset columns\n",
    "columns_to_select = ['Year', 'Day of Week', 'Hour', 'Amount', 'Use Chip', 'Merchant Name', 'MCC', 'Is Fraud?']\n",
    "df = df[columns_to_select]"
   ]
  },
  {
   "cell_type": "code",
   "execution_count": 19,
   "id": "ec245244-3095-4f61-a5d1-d82f9bd5e895",
   "metadata": {},
   "outputs": [
    {
     "name": "stdout",
     "output_type": "stream",
     "text": [
      "[Pipeline] .......... (step 1 of 1) Processing cleaning, total=  18.7s\n"
     ]
    }
   ],
   "source": [
    "scaler = StandardScaler()\n",
    "\n",
    "def clean(df):\n",
    "    # Convert data type\n",
    "    df['Hour'] = df['Hour'].astype('float')\n",
    "    \n",
    "    # Scale the \"Amount\" column\n",
    "\n",
    "    df['Amount'] = scaler.fit_transform(df[['Amount']])\n",
    "   \n",
    "    # Binary encoding for categorical variables\n",
    "    cat_col = ['Use Chip', 'Day of Week']\n",
    "    for col in cat_col:\n",
    "        if col in df.columns:\n",
    "            be = ce.BinaryEncoder(drop_invariant=False)\n",
    "            enc_df = pd.DataFrame(be.fit_transform(df[col]), dtype='int8')\n",
    "            df = pd.concat([df, enc_df], axis=1)\n",
    "            df.drop([col], axis=1, inplace=True)\n",
    "    \n",
    "    for col in df.columns:\n",
    "        df[col] = df[col].astype(float)\n",
    "        \n",
    "    return df\n",
    "\n",
    "# Create the pipeline\n",
    "preprocessing_pipeline = Pipeline([\n",
    "    ('cleaning', FunctionTransformer(clean, validate=False)), \n",
    "], verbose=True)\n",
    "\n",
    "df_transformed = preprocessing_pipeline.fit_transform(df)"
   ]
  },
  {
   "cell_type": "code",
   "execution_count": 20,
   "id": "01448fb5-8cec-4ce5-9bda-ca6edce9371d",
   "metadata": {},
   "outputs": [
    {
     "data": {
      "text/plain": [
       "(22326462, 11)"
      ]
     },
     "execution_count": 20,
     "metadata": {},
     "output_type": "execute_result"
    }
   ],
   "source": [
    "df_transformed.shape"
   ]
  },
  {
   "cell_type": "code",
   "execution_count": 21,
   "id": "86607d0a-d7e1-4357-8e1a-de503461d9af",
   "metadata": {},
   "outputs": [
    {
     "data": {
      "text/html": [
       "<div>\n",
       "<style scoped>\n",
       "    .dataframe tbody tr th:only-of-type {\n",
       "        vertical-align: middle;\n",
       "    }\n",
       "\n",
       "    .dataframe tbody tr th {\n",
       "        vertical-align: top;\n",
       "    }\n",
       "\n",
       "    .dataframe thead th {\n",
       "        text-align: right;\n",
       "    }\n",
       "</style>\n",
       "<table border=\"1\" class=\"dataframe\">\n",
       "  <thead>\n",
       "    <tr style=\"text-align: right;\">\n",
       "      <th></th>\n",
       "      <th>Year</th>\n",
       "      <th>Hour</th>\n",
       "      <th>Amount</th>\n",
       "      <th>Merchant Name</th>\n",
       "      <th>MCC</th>\n",
       "      <th>Is Fraud?</th>\n",
       "      <th>Use Chip_0</th>\n",
       "      <th>Use Chip_1</th>\n",
       "      <th>Day of Week_0</th>\n",
       "      <th>Day of Week_1</th>\n",
       "      <th>Day of Week_2</th>\n",
       "    </tr>\n",
       "  </thead>\n",
       "  <tbody>\n",
       "    <tr>\n",
       "      <th>0</th>\n",
       "      <td>1991.0</td>\n",
       "      <td>7.0</td>\n",
       "      <td>0.295083</td>\n",
       "      <td>2.027554e+18</td>\n",
       "      <td>5541.0</td>\n",
       "      <td>0.0</td>\n",
       "      <td>0.0</td>\n",
       "      <td>1.0</td>\n",
       "      <td>0.0</td>\n",
       "      <td>0.0</td>\n",
       "      <td>1.0</td>\n",
       "    </tr>\n",
       "    <tr>\n",
       "      <th>1</th>\n",
       "      <td>1991.0</td>\n",
       "      <td>7.0</td>\n",
       "      <td>-1.358264</td>\n",
       "      <td>2.027554e+18</td>\n",
       "      <td>5541.0</td>\n",
       "      <td>0.0</td>\n",
       "      <td>0.0</td>\n",
       "      <td>1.0</td>\n",
       "      <td>0.0</td>\n",
       "      <td>0.0</td>\n",
       "      <td>1.0</td>\n",
       "    </tr>\n",
       "    <tr>\n",
       "      <th>2</th>\n",
       "      <td>1991.0</td>\n",
       "      <td>7.0</td>\n",
       "      <td>0.849684</td>\n",
       "      <td>2.027554e+18</td>\n",
       "      <td>5541.0</td>\n",
       "      <td>0.0</td>\n",
       "      <td>0.0</td>\n",
       "      <td>1.0</td>\n",
       "      <td>0.0</td>\n",
       "      <td>0.0</td>\n",
       "      <td>1.0</td>\n",
       "    </tr>\n",
       "    <tr>\n",
       "      <th>3</th>\n",
       "      <td>1991.0</td>\n",
       "      <td>17.0</td>\n",
       "      <td>0.863178</td>\n",
       "      <td>-7.269692e+18</td>\n",
       "      <td>5411.0</td>\n",
       "      <td>0.0</td>\n",
       "      <td>0.0</td>\n",
       "      <td>1.0</td>\n",
       "      <td>0.0</td>\n",
       "      <td>0.0</td>\n",
       "      <td>1.0</td>\n",
       "    </tr>\n",
       "    <tr>\n",
       "      <th>4</th>\n",
       "      <td>1991.0</td>\n",
       "      <td>9.0</td>\n",
       "      <td>2.528439</td>\n",
       "      <td>-3.693651e+18</td>\n",
       "      <td>4814.0</td>\n",
       "      <td>0.0</td>\n",
       "      <td>0.0</td>\n",
       "      <td>1.0</td>\n",
       "      <td>0.0</td>\n",
       "      <td>1.0</td>\n",
       "      <td>0.0</td>\n",
       "    </tr>\n",
       "    <tr>\n",
       "      <th>...</th>\n",
       "      <td>...</td>\n",
       "      <td>...</td>\n",
       "      <td>...</td>\n",
       "      <td>...</td>\n",
       "      <td>...</td>\n",
       "      <td>...</td>\n",
       "      <td>...</td>\n",
       "      <td>...</td>\n",
       "      <td>...</td>\n",
       "      <td>...</td>\n",
       "      <td>...</td>\n",
       "    </tr>\n",
       "    <tr>\n",
       "      <th>3348965</th>\n",
       "      <td>2018.0</td>\n",
       "      <td>23.0</td>\n",
       "      <td>-0.370024</td>\n",
       "      <td>9.050172e+17</td>\n",
       "      <td>5411.0</td>\n",
       "      <td>0.0</td>\n",
       "      <td>0.0</td>\n",
       "      <td>1.0</td>\n",
       "      <td>1.0</td>\n",
       "      <td>0.0</td>\n",
       "      <td>1.0</td>\n",
       "    </tr>\n",
       "    <tr>\n",
       "      <th>3348966</th>\n",
       "      <td>2018.0</td>\n",
       "      <td>23.0</td>\n",
       "      <td>-0.514571</td>\n",
       "      <td>9.703280e+16</td>\n",
       "      <td>5411.0</td>\n",
       "      <td>0.0</td>\n",
       "      <td>1.0</td>\n",
       "      <td>1.0</td>\n",
       "      <td>1.0</td>\n",
       "      <td>0.0</td>\n",
       "      <td>1.0</td>\n",
       "    </tr>\n",
       "    <tr>\n",
       "      <th>3348967</th>\n",
       "      <td>2018.0</td>\n",
       "      <td>23.0</td>\n",
       "      <td>0.336538</td>\n",
       "      <td>8.080935e+18</td>\n",
       "      <td>5310.0</td>\n",
       "      <td>0.0</td>\n",
       "      <td>1.0</td>\n",
       "      <td>1.0</td>\n",
       "      <td>1.0</td>\n",
       "      <td>0.0</td>\n",
       "      <td>1.0</td>\n",
       "    </tr>\n",
       "    <tr>\n",
       "      <th>3348968</th>\n",
       "      <td>2018.0</td>\n",
       "      <td>23.0</td>\n",
       "      <td>0.354895</td>\n",
       "      <td>-6.255080e+18</td>\n",
       "      <td>5300.0</td>\n",
       "      <td>0.0</td>\n",
       "      <td>0.0</td>\n",
       "      <td>1.0</td>\n",
       "      <td>1.0</td>\n",
       "      <td>0.0</td>\n",
       "      <td>1.0</td>\n",
       "    </tr>\n",
       "    <tr>\n",
       "      <th>3348969</th>\n",
       "      <td>2018.0</td>\n",
       "      <td>23.0</td>\n",
       "      <td>0.010246</td>\n",
       "      <td>6.865773e+18</td>\n",
       "      <td>4900.0</td>\n",
       "      <td>0.0</td>\n",
       "      <td>1.0</td>\n",
       "      <td>0.0</td>\n",
       "      <td>1.0</td>\n",
       "      <td>0.0</td>\n",
       "      <td>1.0</td>\n",
       "    </tr>\n",
       "  </tbody>\n",
       "</table>\n",
       "<p>22326462 rows × 11 columns</p>\n",
       "</div>"
      ],
      "text/plain": [
       "           Year  Hour    Amount  Merchant Name     MCC  Is Fraud?  Use Chip_0  \\\n",
       "0        1991.0   7.0  0.295083   2.027554e+18  5541.0        0.0         0.0   \n",
       "1        1991.0   7.0 -1.358264   2.027554e+18  5541.0        0.0         0.0   \n",
       "2        1991.0   7.0  0.849684   2.027554e+18  5541.0        0.0         0.0   \n",
       "3        1991.0  17.0  0.863178  -7.269692e+18  5411.0        0.0         0.0   \n",
       "4        1991.0   9.0  2.528439  -3.693651e+18  4814.0        0.0         0.0   \n",
       "...         ...   ...       ...            ...     ...        ...         ...   \n",
       "3348965  2018.0  23.0 -0.370024   9.050172e+17  5411.0        0.0         0.0   \n",
       "3348966  2018.0  23.0 -0.514571   9.703280e+16  5411.0        0.0         1.0   \n",
       "3348967  2018.0  23.0  0.336538   8.080935e+18  5310.0        0.0         1.0   \n",
       "3348968  2018.0  23.0  0.354895  -6.255080e+18  5300.0        0.0         0.0   \n",
       "3348969  2018.0  23.0  0.010246   6.865773e+18  4900.0        0.0         1.0   \n",
       "\n",
       "         Use Chip_1  Day of Week_0  Day of Week_1  Day of Week_2  \n",
       "0               1.0            0.0            0.0            1.0  \n",
       "1               1.0            0.0            0.0            1.0  \n",
       "2               1.0            0.0            0.0            1.0  \n",
       "3               1.0            0.0            0.0            1.0  \n",
       "4               1.0            0.0            1.0            0.0  \n",
       "...             ...            ...            ...            ...  \n",
       "3348965         1.0            1.0            0.0            1.0  \n",
       "3348966         1.0            1.0            0.0            1.0  \n",
       "3348967         1.0            1.0            0.0            1.0  \n",
       "3348968         1.0            1.0            0.0            1.0  \n",
       "3348969         0.0            1.0            0.0            1.0  \n",
       "\n",
       "[22326462 rows x 11 columns]"
      ]
     },
     "execution_count": 21,
     "metadata": {},
     "output_type": "execute_result"
    }
   ],
   "source": [
    "df_transformed"
   ]
  },
  {
   "cell_type": "code",
   "execution_count": 22,
   "id": "f7caa932-d901-4656-a217-fb37367d94bc",
   "metadata": {},
   "outputs": [
    {
     "data": {
      "text/plain": [
       "27670.0"
      ]
     },
     "execution_count": 22,
     "metadata": {},
     "output_type": "execute_result"
    }
   ],
   "source": [
    "df_transformed['Is Fraud?'].sum()"
   ]
  },
  {
   "cell_type": "code",
   "execution_count": 23,
   "id": "388a3521-4105-45d2-9197-e92ffa875eea",
   "metadata": {},
   "outputs": [],
   "source": [
    "X = df_transformed.drop(columns=['Is Fraud?'])\n",
    "y = df_transformed['Is Fraud?']\n",
    "\n",
    "# Calculate the desired number of fraud cases based on the desired proportion\n",
    "desired_proportion = 0.2\n",
    "\n",
    "fraud_samples = int(y.sum())\n",
    "total_samples = int(fraud_samples / desired_proportion)\n",
    "\n",
    "# Create RandomUnderSampler with the desired sampling strategy\n",
    "rus = RandomUnderSampler(sampling_strategy={0: total_samples - fraud_samples, 1: fraud_samples})\n",
    "\n",
    "# Apply random undersampling to the original dataset\n",
    "X_resampled, y_resampled = rus.fit_resample(X, y)\n",
    "\n",
    "# Split the resampled data into train and test sets\n",
    "X_train, X_val, y_train, y_val = train_test_split(X_resampled, y_resampled, test_size=0.3)"
   ]
  },
  {
   "cell_type": "code",
   "execution_count": 24,
   "id": "2143c0fb-c0ff-445c-afe9-601ff2a0037e",
   "metadata": {},
   "outputs": [
    {
     "data": {
      "text/plain": [
       "((96845, 10), (41505, 10))"
      ]
     },
     "execution_count": 24,
     "metadata": {},
     "output_type": "execute_result"
    }
   ],
   "source": [
    "X_train.shape, X_val.shape"
   ]
  },
  {
   "cell_type": "code",
   "execution_count": 25,
   "id": "0bb06bef-c21a-4dd3-bc92-8febd49935d3",
   "metadata": {},
   "outputs": [
    {
     "name": "stdout",
     "output_type": "stream",
     "text": [
      "Random Forest Classifier Results:\n",
      "              precision    recall  f1-score   support\n",
      "\n",
      "         0.0       0.96      0.99      0.97     33172\n",
      "         1.0       0.94      0.82      0.87      8333\n",
      "\n",
      "    accuracy                           0.95     41505\n",
      "   macro avg       0.95      0.90      0.92     41505\n",
      "weighted avg       0.95      0.95      0.95     41505\n",
      "\n",
      "[[32749   423]\n",
      " [ 1527  6806]]\n"
     ]
    }
   ],
   "source": [
    "rf_classifier = RandomForestClassifier(n_estimators=100, random_state=42)\n",
    "rf_classifier.fit(X_train, y_train)\n",
    "\n",
    "y_pred_rf = rf_classifier.predict(X_val)\n",
    "\n",
    "print(\"Random Forest Classifier Results:\")\n",
    "print(classification_report(y_val, y_pred_rf))\n",
    "print(confusion_matrix(y_val, y_pred_rf))"
   ]
  },
  {
   "cell_type": "code",
   "execution_count": 26,
   "id": "504e593c-5859-44cf-b06e-97b98f630c90",
   "metadata": {},
   "outputs": [
    {
     "name": "stdout",
     "output_type": "stream",
     "text": [
      "Fitting 3 folds for each of 432 candidates, totalling 1296 fits\n",
      "Best hyperparameters: {'bootstrap': False, 'max_depth': None, 'max_features': 'sqrt', 'min_samples_leaf': 1, 'min_samples_split': 5, 'n_estimators': 200}\n",
      "Random Forest Classifier Results with Best Hyperparameters:\n",
      "              precision    recall  f1-score   support\n",
      "\n",
      "         0.0       0.96      0.99      0.97     33172\n",
      "         1.0       0.94      0.83      0.88      8333\n",
      "\n",
      "    accuracy                           0.95     41505\n",
      "   macro avg       0.95      0.91      0.93     41505\n",
      "weighted avg       0.95      0.95      0.95     41505\n",
      "\n",
      "[[32728   444]\n",
      " [ 1429  6904]]\n"
     ]
    }
   ],
   "source": [
    "# Hyperparameters Tuning\n",
    "import warnings\n",
    "from sklearn.model_selection import GridSearchCV\n",
    "from sklearn.ensemble import RandomForestClassifier\n",
    "from sklearn.metrics import classification_report, confusion_matrix\n",
    "\n",
    "# Suppress all warnings\n",
    "warnings.simplefilter(\"ignore\")\n",
    "\n",
    "# Define the hyperparameters\n",
    "param_grid = {\n",
    "    'n_estimators': [50, 100, 200],\n",
    "    'max_depth': [None, 10, 20, 30],\n",
    "    'max_features': ['sqrt', 'log2'],  # Removed 'auto' and kept 'sqrt'\n",
    "    'min_samples_split': [2, 5, 10],\n",
    "    'min_samples_leaf': [1, 2, 4],\n",
    "    'bootstrap': [True, False]\n",
    "}\n",
    "\n",
    "# Create a RandomForestClassifier model\n",
    "rf = RandomForestClassifier(random_state=42)\n",
    "\n",
    "# GridSearchCV \n",
    "grid_search = GridSearchCV(estimator=rf, param_grid=param_grid, \n",
    "                           cv=3, n_jobs=-1, verbose=10, scoring='f1_macro') \n",
    "\n",
    "grid_search.fit(X_train, y_train)\n",
    "\n",
    "# Get the best hyperparameters\n",
    "best_params = grid_search.best_params_\n",
    "print(\"Best hyperparameters:\", best_params)\n",
    "\n",
    "# Use the best estimator for predictions or further work\n",
    "best_rf = grid_search.best_estimator_\n",
    "\n",
    "y_pred_best_rf = best_rf.predict(X_val)\n",
    "\n",
    "print(\"Random Forest Classifier Results with Best Hyperparameters:\")\n",
    "print(classification_report(y_val, y_pred_best_rf))\n",
    "print(confusion_matrix(y_val, y_pred_best_rf))"
   ]
  },
  {
   "cell_type": "code",
   "execution_count": 27,
   "id": "7d18b2f5-6e30-4add-a018-39e9039c7049",
   "metadata": {},
   "outputs": [
    {
     "data": {
      "image/png": "[encoded data removed]",
      "text/plain": [
       "<Figure size 1000x700 with 1 Axes>"
      ]
     },
     "metadata": {},
     "output_type": "display_data"
    }
   ],
   "source": [
    "# Extract feature importances from the best random forest model\n",
    "feature_importance = best_rf.feature_importances_\n",
    "features = X_train.columns\n",
    "\n",
    "# Sort the feature importances and their corresponding feature names\n",
    "sorted_idx = feature_importance.argsort()\n",
    "\n",
    "# Plot horizontal bar chart\n",
    "plt.figure(figsize=(10, 7))\n",
    "plt.barh(features[sorted_idx], feature_importance[sorted_idx], align='center', color='skyblue')\n",
    "plt.xlabel('Importance')\n",
    "plt.title('Feature Importances using Random Forest')\n",
    "plt.show()"
   ]
  },
  {
   "cell_type": "code",
   "execution_count": null,
   "id": "0b04a6c3-04dc-491d-8ed1-e17fdd2cc5b4",
   "metadata": {},
   "outputs": [],
   "source": []
  },
  {
   "cell_type": "code",
   "execution_count": 28,
   "id": "6c71fa97-c516-474f-966f-645a43a667ee",
   "metadata": {},
   "outputs": [],
   "source": [
    "df_test = pd.read_csv('../data/processed/test.csv')"
   ]
  },
  {
   "cell_type": "code",
   "execution_count": 29,
   "id": "4500c6d5-8a24-4e1f-97d9-6a5f4af343d8",
   "metadata": {},
   "outputs": [],
   "source": [
    "df_test = df_test[columns_to_select]"
   ]
  },
  {
   "cell_type": "code",
   "execution_count": 30,
   "id": "ed6e6d8b-a707-4c23-9e90-d2468d2e3f83",
   "metadata": {},
   "outputs": [],
   "source": [
    "df_test = preprocessing_pipeline.transform(df_test)"
   ]
  },
  {
   "cell_type": "code",
   "execution_count": 32,
   "id": "291603ff-4d97-4ae8-a69d-9313c9adf265",
   "metadata": {},
   "outputs": [],
   "source": [
    "X_test = df_test.drop(columns=['Is Fraud?'])\n",
    "y_test = df_test['Is Fraud?']"
   ]
  },
  {
   "cell_type": "code",
   "execution_count": 33,
   "id": "31b76fd5-f6c8-459d-a9c8-25f07fa22ba3",
   "metadata": {},
   "outputs": [],
   "source": [
    "df_test = None"
   ]
  },
  {
   "cell_type": "code",
   "execution_count": 34,
   "id": "7a980edd-5b5d-4790-87d9-83e0319d7d58",
   "metadata": {},
   "outputs": [
    {
     "name": "stdout",
     "output_type": "stream",
     "text": [
      "Random Forest Classifier Test Results:\n",
      "              precision    recall  f1-score   support\n",
      "\n",
      "         0.0       1.00      0.98      0.99   1721851\n",
      "         1.0       0.03      0.52      0.06      2087\n",
      "\n",
      "    accuracy                           0.98   1723938\n",
      "   macro avg       0.52      0.75      0.52   1723938\n",
      "weighted avg       1.00      0.98      0.99   1723938\n",
      "\n",
      "[[1688946   32905]\n",
      " [   1006    1081]]\n"
     ]
    }
   ],
   "source": [
    "test_prediction = best_rf.predict(X_test)\n",
    "\n",
    "print(\"Random Forest Classifier Test Results:\")\n",
    "print(classification_report(y_test, test_prediction))\n",
    "print(confusion_matrix(y_test, test_prediction))"
   ]
  },
  {
   "cell_type": "code",
   "execution_count": 35,
   "id": "1a996fca-477b-41b6-8521-833e8d07d474",
   "metadata": {},
   "outputs": [],
   "source": [
    "from sklearn.metrics import ConfusionMatrixDisplay"
   ]
  },
  {
   "cell_type": "code",
   "execution_count": 36,
   "id": "305f90cb-ff32-4535-a568-e9b81c98fa7c",
   "metadata": {},
   "outputs": [
    {
     "data": {
      "image/png": "[encoded data removed]",
      "text/plain": [
       "<Figure size 640x480 with 2 Axes>"
      ]
     },
     "metadata": {},
     "output_type": "display_data"
    }
   ],
   "source": [
    "disp = ConfusionMatrixDisplay(confusion_matrix=confusion_matrix(y_test, test_prediction),\n",
    "                              display_labels=best_rf.classes_)\n",
    "disp.plot()\n",
    "plt.show()"
   ]
  },
  {
   "cell_type": "code",
   "execution_count": 37,
   "id": "2efc9a0e-5229-45bc-aa77-627f816fd376",
   "metadata": {},
   "outputs": [],
   "source": [
    "amount_scaled = X_test['Amount'].values.reshape(-1, 1)\n",
    "amount_rescaled = scaler.inverse_transform(amount_scaled)"
   ]
  },
  {
   "cell_type": "code",
   "execution_count": 38,
   "id": "fc595ecf-c5e3-4267-a7a4-213b00002b9c",
   "metadata": {},
   "outputs": [],
   "source": [
    "X_test['Amount'] = scaler.inverse_transform(X_test['Amount'].values.reshape(-1, 1))"
   ]
  },
  {
   "cell_type": "code",
   "execution_count": 39,
   "id": "ce40d90d-d3b1-4d5b-9678-5f94d66a0dbd",
   "metadata": {},
   "outputs": [],
   "source": [
    "X_test['Prediction'] = test_prediction"
   ]
  },
  {
   "cell_type": "code",
   "execution_count": 40,
   "id": "a35f5ce6-3c71-423c-a2de-8e8df8af639c",
   "metadata": {},
   "outputs": [],
   "source": [
    "X_test['Saved'] = X_test['Amount'] * X_test['Prediction']"
   ]
  },
  {
   "cell_type": "code",
   "execution_count": 41,
   "id": "9a5eaec2-b7e8-4be2-8f8c-b814a928c900",
   "metadata": {},
   "outputs": [
    {
     "data": {
      "text/plain": [
       "1763056.509999999"
      ]
     },
     "execution_count": 41,
     "metadata": {},
     "output_type": "execute_result"
    }
   ],
   "source": [
    "X_test['Saved'].sum()"
   ]
  },
  {
   "cell_type": "code",
   "execution_count": 42,
   "id": "42519dc4-edd2-494e-821b-a6c325837ea3",
   "metadata": {},
   "outputs": [
    {
     "data": {
      "text/plain": [
       "73682938.67"
      ]
     },
     "execution_count": 42,
     "metadata": {},
     "output_type": "execute_result"
    }
   ],
   "source": [
    "X_test['Amount'].sum()"
   ]
  },
  {
   "cell_type": "code",
   "execution_count": 43,
   "id": "481ac565-6ff0-4134-a360-093ac05ea0a7",
   "metadata": {},
   "outputs": [
    {
     "data": {
      "text/plain": [
       "0.023927608505085688"
      ]
     },
     "execution_count": 43,
     "metadata": {},
     "output_type": "execute_result"
    }
   ],
   "source": [
    "saved_ratio = X_test['Saved'].sum() / X_test['Amount'].sum()\n",
    "saved_ratio"
   ]
  },
  {
   "cell_type": "code",
   "execution_count": null,
   "id": "b3d7c6fc-4710-41a3-9632-eef6903d5430",
   "metadata": {},
   "outputs": [],
   "source": []
  },
  {
   "cell_type": "markdown",
   "id": "49489587-61c2-4652-8477-ded083791911",
   "metadata": {},
   "source": [
    "### Проверим на всей обучающей выборке лучшую модель без undersampling"
   ]
  },
  {
   "cell_type": "code",
   "execution_count": 50,
   "id": "5ca5e246-34de-4efc-b1ae-3b70fa4d601f",
   "metadata": {},
   "outputs": [],
   "source": [
    "X = df_transformed[(df_transformed['Year'] == 2017) | (df_transformed['Year'] == 2018)].drop(columns=['Is Fraud?'])\n",
    "y = df_transformed[(df_transformed['Year'] == 2017) | (df_transformed['Year'] == 2018)]['Is Fraud?']"
   ]
  },
  {
   "cell_type": "code",
   "execution_count": 51,
   "id": "4048c3d3-c2e0-4829-8e10-f1fcf7820eab",
   "metadata": {
    "scrolled": true
   },
   "outputs": [
    {
     "ename": "ValueError",
     "evalue": "The feature names should match those that were passed during fit.\nFeature names unseen at fit time:\n- Prediction\n- Saved\n",
     "output_type": "error",
     "traceback": [
      "\u001b[1;31m---------------------------------------------------------------------------\u001b[0m",
      "\u001b[1;31mValueError\u001b[0m                                Traceback (most recent call last)",
      "Cell \u001b[1;32mIn[51], line 4\u001b[0m\n\u001b[0;32m      1\u001b[0m rf_classifier \u001b[38;5;241m=\u001b[39m RandomForestClassifier(\u001b[38;5;241m*\u001b[39m\u001b[38;5;241m*\u001b[39mgrid_search\u001b[38;5;241m.\u001b[39mbest_params_)\n\u001b[0;32m      2\u001b[0m rf_classifier\u001b[38;5;241m.\u001b[39mfit(X, y)\n\u001b[1;32m----> 4\u001b[0m y_test_preds \u001b[38;5;241m=\u001b[39m \u001b[43mrf_classifier\u001b[49m\u001b[38;5;241;43m.\u001b[39;49m\u001b[43mpredict\u001b[49m\u001b[43m(\u001b[49m\u001b[43mX_test\u001b[49m\u001b[43m)\u001b[49m\n\u001b[0;32m      6\u001b[0m \u001b[38;5;28mprint\u001b[39m(\u001b[38;5;124m\"\u001b[39m\u001b[38;5;124mRandom Forest Classifier Results:\u001b[39m\u001b[38;5;124m\"\u001b[39m)\n\u001b[0;32m      7\u001b[0m \u001b[38;5;28mprint\u001b[39m(classification_report(y_test, y_test_preds))\n",
      "File \u001b[1;32m~\\.conda\\envs\\mldf_fraud_env\\Lib\\site-packages\\sklearn\\ensemble\\_forest.py:904\u001b[0m, in \u001b[0;36mForestClassifier.predict\u001b[1;34m(self, X)\u001b[0m\n\u001b[0;32m    883\u001b[0m \u001b[38;5;28;01mdef\u001b[39;00m \u001b[38;5;21mpredict\u001b[39m(\u001b[38;5;28mself\u001b[39m, X):\n\u001b[0;32m    884\u001b[0m \u001b[38;5;250m    \u001b[39m\u001b[38;5;124;03m\"\"\"\u001b[39;00m\n\u001b[0;32m    885\u001b[0m \u001b[38;5;124;03m    Predict class for X.\u001b[39;00m\n\u001b[0;32m    886\u001b[0m \n\u001b[1;32m   (...)\u001b[0m\n\u001b[0;32m    902\u001b[0m \u001b[38;5;124;03m        The predicted classes.\u001b[39;00m\n\u001b[0;32m    903\u001b[0m \u001b[38;5;124;03m    \"\"\"\u001b[39;00m\n\u001b[1;32m--> 904\u001b[0m     proba \u001b[38;5;241m=\u001b[39m \u001b[38;5;28;43mself\u001b[39;49m\u001b[38;5;241;43m.\u001b[39;49m\u001b[43mpredict_proba\u001b[49m\u001b[43m(\u001b[49m\u001b[43mX\u001b[49m\u001b[43m)\u001b[49m\n\u001b[0;32m    906\u001b[0m     \u001b[38;5;28;01mif\u001b[39;00m \u001b[38;5;28mself\u001b[39m\u001b[38;5;241m.\u001b[39mn_outputs_ \u001b[38;5;241m==\u001b[39m \u001b[38;5;241m1\u001b[39m:\n\u001b[0;32m    907\u001b[0m         \u001b[38;5;28;01mreturn\u001b[39;00m \u001b[38;5;28mself\u001b[39m\u001b[38;5;241m.\u001b[39mclasses_\u001b[38;5;241m.\u001b[39mtake(np\u001b[38;5;241m.\u001b[39margmax(proba, axis\u001b[38;5;241m=\u001b[39m\u001b[38;5;241m1\u001b[39m), axis\u001b[38;5;241m=\u001b[39m\u001b[38;5;241m0\u001b[39m)\n",
      "File \u001b[1;32m~\\.conda\\envs\\mldf_fraud_env\\Lib\\site-packages\\sklearn\\ensemble\\_forest.py:946\u001b[0m, in \u001b[0;36mForestClassifier.predict_proba\u001b[1;34m(self, X)\u001b[0m\n\u001b[0;32m    944\u001b[0m check_is_fitted(\u001b[38;5;28mself\u001b[39m)\n\u001b[0;32m    945\u001b[0m \u001b[38;5;66;03m# Check data\u001b[39;00m\n\u001b[1;32m--> 946\u001b[0m X \u001b[38;5;241m=\u001b[39m \u001b[38;5;28;43mself\u001b[39;49m\u001b[38;5;241;43m.\u001b[39;49m\u001b[43m_validate_X_predict\u001b[49m\u001b[43m(\u001b[49m\u001b[43mX\u001b[49m\u001b[43m)\u001b[49m\n\u001b[0;32m    948\u001b[0m \u001b[38;5;66;03m# Assign chunk of trees to jobs\u001b[39;00m\n\u001b[0;32m    949\u001b[0m n_jobs, _, _ \u001b[38;5;241m=\u001b[39m _partition_estimators(\u001b[38;5;28mself\u001b[39m\u001b[38;5;241m.\u001b[39mn_estimators, \u001b[38;5;28mself\u001b[39m\u001b[38;5;241m.\u001b[39mn_jobs)\n",
      "File \u001b[1;32m~\\.conda\\envs\\mldf_fraud_env\\Lib\\site-packages\\sklearn\\ensemble\\_forest.py:641\u001b[0m, in \u001b[0;36mBaseForest._validate_X_predict\u001b[1;34m(self, X)\u001b[0m\n\u001b[0;32m    638\u001b[0m \u001b[38;5;28;01melse\u001b[39;00m:\n\u001b[0;32m    639\u001b[0m     force_all_finite \u001b[38;5;241m=\u001b[39m \u001b[38;5;28;01mTrue\u001b[39;00m\n\u001b[1;32m--> 641\u001b[0m X \u001b[38;5;241m=\u001b[39m \u001b[38;5;28;43mself\u001b[39;49m\u001b[38;5;241;43m.\u001b[39;49m\u001b[43m_validate_data\u001b[49m\u001b[43m(\u001b[49m\n\u001b[0;32m    642\u001b[0m \u001b[43m    \u001b[49m\u001b[43mX\u001b[49m\u001b[43m,\u001b[49m\n\u001b[0;32m    643\u001b[0m \u001b[43m    \u001b[49m\u001b[43mdtype\u001b[49m\u001b[38;5;241;43m=\u001b[39;49m\u001b[43mDTYPE\u001b[49m\u001b[43m,\u001b[49m\n\u001b[0;32m    644\u001b[0m \u001b[43m    \u001b[49m\u001b[43maccept_sparse\u001b[49m\u001b[38;5;241;43m=\u001b[39;49m\u001b[38;5;124;43m\"\u001b[39;49m\u001b[38;5;124;43mcsr\u001b[39;49m\u001b[38;5;124;43m\"\u001b[39;49m\u001b[43m,\u001b[49m\n\u001b[0;32m    645\u001b[0m \u001b[43m    \u001b[49m\u001b[43mreset\u001b[49m\u001b[38;5;241;43m=\u001b[39;49m\u001b[38;5;28;43;01mFalse\u001b[39;49;00m\u001b[43m,\u001b[49m\n\u001b[0;32m    646\u001b[0m \u001b[43m    \u001b[49m\u001b[43mforce_all_finite\u001b[49m\u001b[38;5;241;43m=\u001b[39;49m\u001b[43mforce_all_finite\u001b[49m\u001b[43m,\u001b[49m\n\u001b[0;32m    647\u001b[0m \u001b[43m\u001b[49m\u001b[43m)\u001b[49m\n\u001b[0;32m    648\u001b[0m \u001b[38;5;28;01mif\u001b[39;00m issparse(X) \u001b[38;5;129;01mand\u001b[39;00m (X\u001b[38;5;241m.\u001b[39mindices\u001b[38;5;241m.\u001b[39mdtype \u001b[38;5;241m!=\u001b[39m np\u001b[38;5;241m.\u001b[39mintc \u001b[38;5;129;01mor\u001b[39;00m X\u001b[38;5;241m.\u001b[39mindptr\u001b[38;5;241m.\u001b[39mdtype \u001b[38;5;241m!=\u001b[39m np\u001b[38;5;241m.\u001b[39mintc):\n\u001b[0;32m    649\u001b[0m     \u001b[38;5;28;01mraise\u001b[39;00m \u001b[38;5;167;01mValueError\u001b[39;00m(\u001b[38;5;124m\"\u001b[39m\u001b[38;5;124mNo support for np.int64 index based sparse matrices\u001b[39m\u001b[38;5;124m\"\u001b[39m)\n",
      "File \u001b[1;32m~\\.conda\\envs\\mldf_fraud_env\\Lib\\site-packages\\sklearn\\base.py:608\u001b[0m, in \u001b[0;36mBaseEstimator._validate_data\u001b[1;34m(self, X, y, reset, validate_separately, cast_to_ndarray, **check_params)\u001b[0m\n\u001b[0;32m    537\u001b[0m \u001b[38;5;28;01mdef\u001b[39;00m \u001b[38;5;21m_validate_data\u001b[39m(\n\u001b[0;32m    538\u001b[0m     \u001b[38;5;28mself\u001b[39m,\n\u001b[0;32m    539\u001b[0m     X\u001b[38;5;241m=\u001b[39m\u001b[38;5;124m\"\u001b[39m\u001b[38;5;124mno_validation\u001b[39m\u001b[38;5;124m\"\u001b[39m,\n\u001b[1;32m   (...)\u001b[0m\n\u001b[0;32m    544\u001b[0m     \u001b[38;5;241m*\u001b[39m\u001b[38;5;241m*\u001b[39mcheck_params,\n\u001b[0;32m    545\u001b[0m ):\n\u001b[0;32m    546\u001b[0m \u001b[38;5;250m    \u001b[39m\u001b[38;5;124;03m\"\"\"Validate input data and set or check the `n_features_in_` attribute.\u001b[39;00m\n\u001b[0;32m    547\u001b[0m \n\u001b[0;32m    548\u001b[0m \u001b[38;5;124;03m    Parameters\u001b[39;00m\n\u001b[1;32m   (...)\u001b[0m\n\u001b[0;32m    606\u001b[0m \u001b[38;5;124;03m        validated.\u001b[39;00m\n\u001b[0;32m    607\u001b[0m \u001b[38;5;124;03m    \"\"\"\u001b[39;00m\n\u001b[1;32m--> 608\u001b[0m     \u001b[38;5;28;43mself\u001b[39;49m\u001b[38;5;241;43m.\u001b[39;49m\u001b[43m_check_feature_names\u001b[49m\u001b[43m(\u001b[49m\u001b[43mX\u001b[49m\u001b[43m,\u001b[49m\u001b[43m \u001b[49m\u001b[43mreset\u001b[49m\u001b[38;5;241;43m=\u001b[39;49m\u001b[43mreset\u001b[49m\u001b[43m)\u001b[49m\n\u001b[0;32m    610\u001b[0m     \u001b[38;5;28;01mif\u001b[39;00m y \u001b[38;5;129;01mis\u001b[39;00m \u001b[38;5;28;01mNone\u001b[39;00m \u001b[38;5;129;01mand\u001b[39;00m \u001b[38;5;28mself\u001b[39m\u001b[38;5;241m.\u001b[39m_get_tags()[\u001b[38;5;124m\"\u001b[39m\u001b[38;5;124mrequires_y\u001b[39m\u001b[38;5;124m\"\u001b[39m]:\n\u001b[0;32m    611\u001b[0m         \u001b[38;5;28;01mraise\u001b[39;00m \u001b[38;5;167;01mValueError\u001b[39;00m(\n\u001b[0;32m    612\u001b[0m             \u001b[38;5;124mf\u001b[39m\u001b[38;5;124m\"\u001b[39m\u001b[38;5;124mThis \u001b[39m\u001b[38;5;132;01m{\u001b[39;00m\u001b[38;5;28mself\u001b[39m\u001b[38;5;241m.\u001b[39m\u001b[38;5;18m__class__\u001b[39m\u001b[38;5;241m.\u001b[39m\u001b[38;5;18m__name__\u001b[39m\u001b[38;5;132;01m}\u001b[39;00m\u001b[38;5;124m estimator \u001b[39m\u001b[38;5;124m\"\u001b[39m\n\u001b[0;32m    613\u001b[0m             \u001b[38;5;124m\"\u001b[39m\u001b[38;5;124mrequires y to be passed, but the target y is None.\u001b[39m\u001b[38;5;124m\"\u001b[39m\n\u001b[0;32m    614\u001b[0m         )\n",
      "File \u001b[1;32m~\\.conda\\envs\\mldf_fraud_env\\Lib\\site-packages\\sklearn\\base.py:535\u001b[0m, in \u001b[0;36mBaseEstimator._check_feature_names\u001b[1;34m(self, X, reset)\u001b[0m\n\u001b[0;32m    530\u001b[0m \u001b[38;5;28;01mif\u001b[39;00m \u001b[38;5;129;01mnot\u001b[39;00m missing_names \u001b[38;5;129;01mand\u001b[39;00m \u001b[38;5;129;01mnot\u001b[39;00m unexpected_names:\n\u001b[0;32m    531\u001b[0m     message \u001b[38;5;241m+\u001b[39m\u001b[38;5;241m=\u001b[39m (\n\u001b[0;32m    532\u001b[0m         \u001b[38;5;124m\"\u001b[39m\u001b[38;5;124mFeature names must be in the same order as they were in fit.\u001b[39m\u001b[38;5;130;01m\\n\u001b[39;00m\u001b[38;5;124m\"\u001b[39m\n\u001b[0;32m    533\u001b[0m     )\n\u001b[1;32m--> 535\u001b[0m \u001b[38;5;28;01mraise\u001b[39;00m \u001b[38;5;167;01mValueError\u001b[39;00m(message)\n",
      "\u001b[1;31mValueError\u001b[0m: The feature names should match those that were passed during fit.\nFeature names unseen at fit time:\n- Prediction\n- Saved\n"
     ]
    }
   ],
   "source": [
    "rf_classifier = RandomForestClassifier(**grid_search.best_params_)\n",
    "rf_classifier.fit(X, y)"
   ]
  },
  {
   "cell_type": "code",
   "execution_count": null,
   "id": "5697fe2d-0af1-4f40-bb4f-1766bf93b138",
   "metadata": {},
   "outputs": [],
   "source": []
  },
  {
   "cell_type": "code",
   "execution_count": 78,
   "id": "203c73f0-9777-4284-a831-bca651b0d2fe",
   "metadata": {},
   "outputs": [],
   "source": [
    "X_test = preprocessing_pipeline.transform(X_test)"
   ]
  },
  {
   "cell_type": "code",
   "execution_count": 82,
   "id": "e54d175c-05ad-4923-bed1-18e1f151cd4c",
   "metadata": {},
   "outputs": [],
   "source": [
    "X_test = X_test.drop(columns=['Prediction', 'Saved'])"
   ]
  },
  {
   "cell_type": "code",
   "execution_count": 83,
   "id": "b412b3ed-9d5c-42d9-accd-cafbac76fd43",
   "metadata": {},
   "outputs": [
    {
     "name": "stdout",
     "output_type": "stream",
     "text": [
      "Random Forest Classifier Results:\n",
      "              precision    recall  f1-score   support\n",
      "\n",
      "         0.0       1.00      1.00      1.00   1721851\n",
      "         1.0       0.49      0.13      0.20      2087\n",
      "\n",
      "    accuracy                           1.00   1723938\n",
      "   macro avg       0.74      0.56      0.60   1723938\n",
      "weighted avg       1.00      1.00      1.00   1723938\n",
      "\n",
      "[[1721571     280]\n",
      " [   1818     269]]\n"
     ]
    }
   ],
   "source": [
    "y_test_preds = rf_classifier.predict(X_test)\n",
    "\n",
    "print(\"Random Forest Classifier Results:\")\n",
    "print(classification_report(y_test, y_test_preds))\n",
    "print(confusion_matrix(y_test, y_test_preds))"
   ]
  },
  {
   "cell_type": "code",
   "execution_count": 84,
   "id": "8f1947ed-cbb7-4686-a2b6-c7d5cef7159b",
   "metadata": {},
   "outputs": [],
   "source": [
    "X_test['Amount'] = scaler.inverse_transform(X_test['Amount'].values.reshape(-1, 1))"
   ]
  },
  {
   "cell_type": "code",
   "execution_count": 85,
   "id": "2077649e-fefc-4bfb-b288-66d526475aee",
   "metadata": {},
   "outputs": [],
   "source": [
    "X_test['Prediction'] = y_test_preds"
   ]
  },
  {
   "cell_type": "code",
   "execution_count": 90,
   "id": "dfa5278f-1973-4088-adbb-32c180fc8d22",
   "metadata": {},
   "outputs": [],
   "source": [
    "X_test['Is Fraud'] = y_test"
   ]
  },
  {
   "cell_type": "code",
   "execution_count": 91,
   "id": "fa92c784-974b-4c0d-9eea-653c0f2d9f50",
   "metadata": {},
   "outputs": [],
   "source": [
    "X_test['Saved'] = (X_test['Amount'] * X_test['Prediction'])*X_test['Is Fraud']"
   ]
  },
  {
   "cell_type": "code",
   "execution_count": 92,
   "id": "05e9bfab-ff12-4520-97c1-227ff03ee1c6",
   "metadata": {},
   "outputs": [
    {
     "data": {
      "text/plain": [
       "1700420.08425038"
      ]
     },
     "execution_count": 92,
     "metadata": {},
     "output_type": "execute_result"
    }
   ],
   "source": [
    "X_test['Saved'].sum()"
   ]
  },
  {
   "cell_type": "code",
   "execution_count": 93,
   "id": "93d51f3d-bf77-4f45-b4e1-365e3c8ca5c8",
   "metadata": {},
   "outputs": [
    {
     "data": {
      "text/plain": [
       "5977516895.259272"
      ]
     },
     "execution_count": 93,
     "metadata": {},
     "output_type": "execute_result"
    }
   ],
   "source": [
    "X_test['Amount'].sum()"
   ]
  },
  {
   "cell_type": "code",
   "execution_count": 89,
   "id": "9e8f5eb8-9a38-48e5-904c-d4d69fdd133a",
   "metadata": {},
   "outputs": [
    {
     "data": {
      "text/html": [
       "<div>\n",
       "<style scoped>\n",
       "    .dataframe tbody tr th:only-of-type {\n",
       "        vertical-align: middle;\n",
       "    }\n",
       "\n",
       "    .dataframe tbody tr th {\n",
       "        vertical-align: top;\n",
       "    }\n",
       "\n",
       "    .dataframe thead th {\n",
       "        text-align: right;\n",
       "    }\n",
       "</style>\n",
       "<table border=\"1\" class=\"dataframe\">\n",
       "  <thead>\n",
       "    <tr style=\"text-align: right;\">\n",
       "      <th></th>\n",
       "      <th>Year</th>\n",
       "      <th>Hour</th>\n",
       "      <th>Amount</th>\n",
       "      <th>Merchant Name</th>\n",
       "      <th>MCC</th>\n",
       "      <th>Use Chip_0</th>\n",
       "      <th>Use Chip_1</th>\n",
       "      <th>Day of Week_0</th>\n",
       "      <th>Day of Week_1</th>\n",
       "      <th>Day of Week_2</th>\n",
       "      <th>Prediction</th>\n",
       "      <th>Saved</th>\n",
       "    </tr>\n",
       "  </thead>\n",
       "  <tbody>\n",
       "    <tr>\n",
       "      <th>0</th>\n",
       "      <td>2019.0</td>\n",
       "      <td>0.0</td>\n",
       "      <td>9605.641176</td>\n",
       "      <td>-3.693651e+18</td>\n",
       "      <td>4814.0</td>\n",
       "      <td>0.0</td>\n",
       "      <td>1.0</td>\n",
       "      <td>0.0</td>\n",
       "      <td>0.0</td>\n",
       "      <td>1.0</td>\n",
       "      <td>0.0</td>\n",
       "      <td>0.0</td>\n",
       "    </tr>\n",
       "    <tr>\n",
       "      <th>1</th>\n",
       "      <td>2019.0</td>\n",
       "      <td>0.0</td>\n",
       "      <td>1535.466902</td>\n",
       "      <td>-6.160036e+18</td>\n",
       "      <td>4121.0</td>\n",
       "      <td>1.0</td>\n",
       "      <td>0.0</td>\n",
       "      <td>0.0</td>\n",
       "      <td>0.0</td>\n",
       "      <td>1.0</td>\n",
       "      <td>0.0</td>\n",
       "      <td>0.0</td>\n",
       "    </tr>\n",
       "    <tr>\n",
       "      <th>2</th>\n",
       "      <td>2019.0</td>\n",
       "      <td>0.0</td>\n",
       "      <td>8055.225447</td>\n",
       "      <td>-4.282467e+18</td>\n",
       "      <td>4829.0</td>\n",
       "      <td>0.0</td>\n",
       "      <td>1.0</td>\n",
       "      <td>0.0</td>\n",
       "      <td>0.0</td>\n",
       "      <td>1.0</td>\n",
       "      <td>0.0</td>\n",
       "      <td>0.0</td>\n",
       "    </tr>\n",
       "    <tr>\n",
       "      <th>3</th>\n",
       "      <td>2019.0</td>\n",
       "      <td>0.0</td>\n",
       "      <td>2646.798486</td>\n",
       "      <td>-1.856939e+18</td>\n",
       "      <td>5192.0</td>\n",
       "      <td>1.0</td>\n",
       "      <td>0.0</td>\n",
       "      <td>0.0</td>\n",
       "      <td>0.0</td>\n",
       "      <td>1.0</td>\n",
       "      <td>0.0</td>\n",
       "      <td>0.0</td>\n",
       "    </tr>\n",
       "    <tr>\n",
       "      <th>4</th>\n",
       "      <td>2019.0</td>\n",
       "      <td>0.0</td>\n",
       "      <td>8479.887120</td>\n",
       "      <td>4.722913e+18</td>\n",
       "      <td>5411.0</td>\n",
       "      <td>1.0</td>\n",
       "      <td>1.0</td>\n",
       "      <td>0.0</td>\n",
       "      <td>0.0</td>\n",
       "      <td>1.0</td>\n",
       "      <td>0.0</td>\n",
       "      <td>0.0</td>\n",
       "    </tr>\n",
       "    <tr>\n",
       "      <th>...</th>\n",
       "      <td>...</td>\n",
       "      <td>...</td>\n",
       "      <td>...</td>\n",
       "      <td>...</td>\n",
       "      <td>...</td>\n",
       "      <td>...</td>\n",
       "      <td>...</td>\n",
       "      <td>...</td>\n",
       "      <td>...</td>\n",
       "      <td>...</td>\n",
       "      <td>...</td>\n",
       "      <td>...</td>\n",
       "    </tr>\n",
       "    <tr>\n",
       "      <th>1723933</th>\n",
       "      <td>2019.0</td>\n",
       "      <td>23.0</td>\n",
       "      <td>4850.231693</td>\n",
       "      <td>-4.282467e+18</td>\n",
       "      <td>4829.0</td>\n",
       "      <td>0.0</td>\n",
       "      <td>1.0</td>\n",
       "      <td>0.0</td>\n",
       "      <td>0.0</td>\n",
       "      <td>1.0</td>\n",
       "      <td>0.0</td>\n",
       "      <td>0.0</td>\n",
       "    </tr>\n",
       "    <tr>\n",
       "      <th>1723934</th>\n",
       "      <td>2019.0</td>\n",
       "      <td>23.0</td>\n",
       "      <td>5517.671642</td>\n",
       "      <td>-2.451783e+17</td>\n",
       "      <td>5311.0</td>\n",
       "      <td>0.0</td>\n",
       "      <td>1.0</td>\n",
       "      <td>0.0</td>\n",
       "      <td>0.0</td>\n",
       "      <td>1.0</td>\n",
       "      <td>0.0</td>\n",
       "      <td>0.0</td>\n",
       "    </tr>\n",
       "    <tr>\n",
       "      <th>1723935</th>\n",
       "      <td>2019.0</td>\n",
       "      <td>23.0</td>\n",
       "      <td>6274.050168</td>\n",
       "      <td>-5.162038e+18</td>\n",
       "      <td>5541.0</td>\n",
       "      <td>0.0</td>\n",
       "      <td>1.0</td>\n",
       "      <td>0.0</td>\n",
       "      <td>0.0</td>\n",
       "      <td>1.0</td>\n",
       "      <td>0.0</td>\n",
       "      <td>0.0</td>\n",
       "    </tr>\n",
       "    <tr>\n",
       "      <th>1723936</th>\n",
       "      <td>2019.0</td>\n",
       "      <td>23.0</td>\n",
       "      <td>8498.315834</td>\n",
       "      <td>4.241336e+18</td>\n",
       "      <td>4814.0</td>\n",
       "      <td>1.0</td>\n",
       "      <td>0.0</td>\n",
       "      <td>0.0</td>\n",
       "      <td>0.0</td>\n",
       "      <td>1.0</td>\n",
       "      <td>0.0</td>\n",
       "      <td>0.0</td>\n",
       "    </tr>\n",
       "    <tr>\n",
       "      <th>1723937</th>\n",
       "      <td>2019.0</td>\n",
       "      <td>23.0</td>\n",
       "      <td>3991.293366</td>\n",
       "      <td>-2.088492e+18</td>\n",
       "      <td>4784.0</td>\n",
       "      <td>1.0</td>\n",
       "      <td>0.0</td>\n",
       "      <td>0.0</td>\n",
       "      <td>0.0</td>\n",
       "      <td>1.0</td>\n",
       "      <td>0.0</td>\n",
       "      <td>0.0</td>\n",
       "    </tr>\n",
       "  </tbody>\n",
       "</table>\n",
       "<p>1723938 rows × 12 columns</p>\n",
       "</div>"
      ],
      "text/plain": [
       "           Year  Hour       Amount  Merchant Name     MCC  Use Chip_0  \\\n",
       "0        2019.0   0.0  9605.641176  -3.693651e+18  4814.0         0.0   \n",
       "1        2019.0   0.0  1535.466902  -6.160036e+18  4121.0         1.0   \n",
       "2        2019.0   0.0  8055.225447  -4.282467e+18  4829.0         0.0   \n",
       "3        2019.0   0.0  2646.798486  -1.856939e+18  5192.0         1.0   \n",
       "4        2019.0   0.0  8479.887120   4.722913e+18  5411.0         1.0   \n",
       "...         ...   ...          ...            ...     ...         ...   \n",
       "1723933  2019.0  23.0  4850.231693  -4.282467e+18  4829.0         0.0   \n",
       "1723934  2019.0  23.0  5517.671642  -2.451783e+17  5311.0         0.0   \n",
       "1723935  2019.0  23.0  6274.050168  -5.162038e+18  5541.0         0.0   \n",
       "1723936  2019.0  23.0  8498.315834   4.241336e+18  4814.0         1.0   \n",
       "1723937  2019.0  23.0  3991.293366  -2.088492e+18  4784.0         1.0   \n",
       "\n",
       "         Use Chip_1  Day of Week_0  Day of Week_1  Day of Week_2  Prediction  \\\n",
       "0               1.0            0.0            0.0            1.0         0.0   \n",
       "1               0.0            0.0            0.0            1.0         0.0   \n",
       "2               1.0            0.0            0.0            1.0         0.0   \n",
       "3               0.0            0.0            0.0            1.0         0.0   \n",
       "4               1.0            0.0            0.0            1.0         0.0   \n",
       "...             ...            ...            ...            ...         ...   \n",
       "1723933         1.0            0.0            0.0            1.0         0.0   \n",
       "1723934         1.0            0.0            0.0            1.0         0.0   \n",
       "1723935         1.0            0.0            0.0            1.0         0.0   \n",
       "1723936         0.0            0.0            0.0            1.0         0.0   \n",
       "1723937         0.0            0.0            0.0            1.0         0.0   \n",
       "\n",
       "         Saved  \n",
       "0          0.0  \n",
       "1          0.0  \n",
       "2          0.0  \n",
       "3          0.0  \n",
       "4          0.0  \n",
       "...        ...  \n",
       "1723933    0.0  \n",
       "1723934    0.0  \n",
       "1723935    0.0  \n",
       "1723936    0.0  \n",
       "1723937    0.0  \n",
       "\n",
       "[1723938 rows x 12 columns]"
      ]
     },
     "execution_count": 89,
     "metadata": {},
     "output_type": "execute_result"
    }
   ],
   "source": [
    "X_test"
   ]
  },
  {
   "cell_type": "code",
   "execution_count": 75,
   "id": "93bce60a-91a9-430c-9e11-5aacb58ed033",
   "metadata": {},
   "outputs": [
    {
     "data": {
      "text/plain": [
       "0.0005481663672731174"
      ]
     },
     "execution_count": 75,
     "metadata": {},
     "output_type": "execute_result"
    }
   ],
   "source": [
    "saved_ratio = X_test['Saved'].sum() / X_test['Amount'].sum()\n",
    "saved_ratio"
   ]
  },
  {
   "cell_type": "code",
   "execution_count": null,
   "id": "13ac44fa-5a5d-47b4-bb5d-293ee5edad13",
   "metadata": {},
   "outputs": [],
   "source": []
  },
  {
   "cell_type": "code",
   "execution_count": null,
   "id": "7ad5a527-bde1-4ec9-930f-58a52aa9b7f2",
   "metadata": {},
   "outputs": [],
   "source": []
  },
  {
   "cell_type": "code",
   "execution_count": 76,
   "id": "7515fb37-a015-46ba-9d5e-5da94f86e2a2",
   "metadata": {
    "scrolled": true
   },
   "outputs": [
    {
     "name": "stderr",
     "output_type": "stream",
     "text": [
      "2024/06/02 19:09:16 INFO mlflow.store.db.utils: Creating initial MLflow database tables...\n",
      "2024/06/02 19:09:16 INFO mlflow.store.db.utils: Updating database tables\n",
      "INFO  [alembic.runtime.migration] Context impl SQLiteImpl.\n",
      "INFO  [alembic.runtime.migration] Will assume non-transactional DDL.\n",
      "INFO  [alembic.runtime.migration] Running upgrade  -> 451aebb31d03, add metric step\n",
      "INFO  [alembic.runtime.migration] Running upgrade 451aebb31d03 -> 90e64c465722, migrate user column to tags\n",
      "INFO  [alembic.runtime.migration] Running upgrade 90e64c465722 -> 181f10493468, allow nulls for metric values\n",
      "INFO  [alembic.runtime.migration] Running upgrade 181f10493468 -> df50e92ffc5e, Add Experiment Tags Table\n",
      "INFO  [alembic.runtime.migration] Running upgrade df50e92ffc5e -> 7ac759974ad8, Update run tags with larger limit\n",
      "INFO  [alembic.runtime.migration] Running upgrade 7ac759974ad8 -> 89d4b8295536, create latest metrics table\n",
      "INFO  [89d4b8295536_create_latest_metrics_table_py] Migration complete!\n",
      "INFO  [alembic.runtime.migration] Running upgrade 89d4b8295536 -> 2b4d017a5e9b, add model registry tables to db\n",
      "INFO  [2b4d017a5e9b_add_model_registry_tables_to_db_py] Adding registered_models and model_versions tables to database.\n",
      "INFO  [2b4d017a5e9b_add_model_registry_tables_to_db_py] Migration complete!\n",
      "INFO  [alembic.runtime.migration] Running upgrade 2b4d017a5e9b -> cfd24bdc0731, Update run status constraint with killed\n",
      "INFO  [alembic.runtime.migration] Running upgrade cfd24bdc0731 -> 0a8213491aaa, drop_duplicate_killed_constraint\n",
      "INFO  [alembic.runtime.migration] Running upgrade 0a8213491aaa -> 728d730b5ebd, add registered model tags table\n",
      "INFO  [alembic.runtime.migration] Running upgrade 728d730b5ebd -> 27a6a02d2cf1, add model version tags table\n",
      "INFO  [alembic.runtime.migration] Running upgrade 27a6a02d2cf1 -> 84291f40a231, add run_link to model_version\n",
      "INFO  [alembic.runtime.migration] Running upgrade 84291f40a231 -> a8c4a736bde6, allow nulls for run_id\n",
      "INFO  [alembic.runtime.migration] Running upgrade a8c4a736bde6 -> 39d1c3be5f05, add_is_nan_constraint_for_metrics_tables_if_necessary\n",
      "INFO  [alembic.runtime.migration] Running upgrade 39d1c3be5f05 -> c48cb773bb87, reset_default_value_for_is_nan_in_metrics_table_for_mysql\n",
      "INFO  [alembic.runtime.migration] Running upgrade c48cb773bb87 -> bd07f7e963c5, create index on run_uuid\n",
      "INFO  [alembic.runtime.migration] Running upgrade bd07f7e963c5 -> 0c779009ac13, add deleted_time field to runs table\n",
      "INFO  [alembic.runtime.migration] Running upgrade 0c779009ac13 -> cc1f77228345, change param value length to 500\n",
      "INFO  [alembic.runtime.migration] Running upgrade cc1f77228345 -> 97727af70f4d, Add creation_time and last_update_time to experiments table\n",
      "INFO  [alembic.runtime.migration] Running upgrade 97727af70f4d -> 3500859a5d39, Add Model Aliases table\n",
      "INFO  [alembic.runtime.migration] Running upgrade 3500859a5d39 -> 7f2a7d5fae7d, add datasets inputs input_tags tables\n",
      "INFO  [alembic.runtime.migration] Running upgrade 7f2a7d5fae7d -> 2d6e25af4d3e, increase max param val length from 500 to 8000\n",
      "INFO  [alembic.runtime.migration] Running upgrade 2d6e25af4d3e -> acf3f17fdcc7, add storage location field to model versions\n",
      "INFO  [alembic.runtime.migration] Running upgrade acf3f17fdcc7 -> 867495a8f9d4, add trace tables\n",
      "INFO  [alembic.runtime.migration] Context impl SQLiteImpl.\n",
      "INFO  [alembic.runtime.migration] Will assume non-transactional DDL.\n"
     ]
    }
   ],
   "source": [
    "from mlflow.tracking import MlflowClient\n",
    "\n",
    "MLFLOW_TRACKING_URI = \"sqlite:///mlflow.db\"\n",
    "\n",
    "client = MlflowClient(tracking_uri=MLFLOW_TRACKING_URI)"
   ]
  },
  {
   "cell_type": "code",
   "execution_count": 77,
   "id": "bfbeb697-3ce2-4564-8f14-1828a2d3bc04",
   "metadata": {},
   "outputs": [
    {
     "name": "stderr",
     "output_type": "stream",
     "text": [
      "2024/06/02 19:10:09 INFO mlflow.tracking.fluent: Experiment with name 'fraud_detection' does not exist. Creating a new experiment.\n"
     ]
    },
    {
     "data": {
      "text/plain": [
       "<Experiment: artifact_location='file:///C:/Users/lakeo/Projects/mlds_fraud/notebooks/mlruns/1', creation_time=1717344609531, experiment_id='1', last_update_time=1717344609531, lifecycle_stage='active', name='fraud_detection', tags={}>"
      ]
     },
     "execution_count": 77,
     "metadata": {},
     "output_type": "execute_result"
    }
   ],
   "source": [
    "import mlflow\n",
    "mlflow.set_tracking_uri(MLFLOW_TRACKING_URI)\n",
    "mlflow.set_experiment(\"fraud_detection\")"
   ]
  },
  {
   "cell_type": "code",
   "execution_count": 94,
   "id": "061d115c-9915-4dc0-9a95-b5bdbd808ba4",
   "metadata": {},
   "outputs": [],
   "source": [
    "with mlflow.start_run():\n",
    "    mlflow.set_tag(\"iteration\",\"baseline\")\n",
    "\n",
    "    mlflow.log_param(\"sampling\", \"No sampling\")\n",
    "    mlflow.log_param(\"model\", \"Random Forest\")\n",
    "    \n",
    "    mlflow.log_metric(\"Precision\", 0.49)\n",
    "    mlflow.log_metric(\"Recall\", 0.13)\n",
    "    mlflow.log_metric(\"FP\", 280)\n",
    "    mlflow.log_metric(\"Saved money\", 1700420)\n",
    "    \n",
    "    "
   ]
  },
  {
   "cell_type": "code",
   "execution_count": 95,
   "id": "e90db85d-aa5e-497d-8a19-d7b4138266c8",
   "metadata": {},
   "outputs": [],
   "source": [
    "with mlflow.start_run():\n",
    "    mlflow.set_tag(\"iteration\",\"baseline\")\n",
    "\n",
    "    mlflow.log_param(\"sampling\", \"Undersampling 1:5\")\n",
    "    mlflow.log_param(\"model\", \"Random Forest\")\n",
    "    \n",
    "    mlflow.log_metric(\"Precision\", 0.03)\n",
    "    mlflow.log_metric(\"Recall\", 0.52)\n",
    "    mlflow.log_metric(\"FP\", 32905)\n",
    "    mlflow.log_metric(\"Saved money\", 1963056)\n",
    "    "
   ]
  },
  {
   "cell_type": "code",
   "execution_count": null,
   "id": "be24683c-5bd5-4224-9d8d-1e1bac35c80b",
   "metadata": {},
   "outputs": [],
   "source": []
  }
 ],
 "metadata": {
  "kernelspec": {
   "display_name": "Python 3 (ipykernel)",
   "language": "python",
   "name": "python3"
  },
  "language_info": {
   "codemirror_mode": {
    "name": "ipython",
    "version": 3
   },
   "file_extension": ".py",
   "mimetype": "text/x-python",
   "name": "python",
   "nbconvert_exporter": "python",
   "pygments_lexer": "ipython3",
   "version": "3.12.3"
  }
 },
 "nbformat": 4,
 "nbformat_minor": 5
}
