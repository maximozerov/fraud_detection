{
 "cells": [
  {
   "cell_type": "code",
   "execution_count": 3,
   "id": "31e0abd4-a0aa-4922-b50c-1c35050c3226",
   "metadata": {},
   "outputs": [],
   "source": [
    "import pandas as pd\n",
    "import numpy as np\n",
    "from matplotlib import pyplot as plt\n",
    "%matplotlib inline"
   ]
  },
  {
   "cell_type": "markdown",
   "id": "c4ffdebd-65a1-47a4-91b4-46b97975d14e",
   "metadata": {},
   "source": [
    "# 1. Загрузка данных"
   ]
  },
  {
   "cell_type": "code",
   "execution_count": 4,
   "id": "65639f8e-c962-46f4-9570-9dcdb8bc688a",
   "metadata": {},
   "outputs": [],
   "source": [
    "df = pd.read_csv('../data/raw/credit_card_transactions-ibm_v2.csv')"
   ]
  },
  {
   "cell_type": "code",
   "execution_count": 5,
   "id": "9bdac48c-9d49-41af-a929-4416ebcafb8d",
   "metadata": {},
   "outputs": [
    {
     "name": "stdout",
     "output_type": "stream",
     "text": [
      "<class 'pandas.core.frame.DataFrame'>\n",
      "RangeIndex: 24386900 entries, 0 to 24386899\n",
      "Data columns (total 15 columns):\n",
      " #   Column          Dtype  \n",
      "---  ------          -----  \n",
      " 0   User            int64  \n",
      " 1   Card            int64  \n",
      " 2   Year            int64  \n",
      " 3   Month           int64  \n",
      " 4   Day             int64  \n",
      " 5   Time            object \n",
      " 6   Amount          object \n",
      " 7   Use Chip        object \n",
      " 8   Merchant Name   int64  \n",
      " 9   Merchant City   object \n",
      " 10  Merchant State  object \n",
      " 11  Zip             float64\n",
      " 12  MCC             int64  \n",
      " 13  Errors?         object \n",
      " 14  Is Fraud?       object \n",
      "dtypes: float64(1), int64(7), object(7)\n",
      "memory usage: 2.7+ GB\n"
     ]
    }
   ],
   "source": [
    "df.info()"
   ]
  },
  {
   "cell_type": "code",
   "execution_count": 6,
   "id": "e5df9187-7f42-4902-8922-11bd64530ac0",
   "metadata": {},
   "outputs": [
    {
     "data": {
      "text/html": [
       "<div>\n",
       "<style scoped>\n",
       "    .dataframe tbody tr th:only-of-type {\n",
       "        vertical-align: middle;\n",
       "    }\n",
       "\n",
       "    .dataframe tbody tr th {\n",
       "        vertical-align: top;\n",
       "    }\n",
       "\n",
       "    .dataframe thead th {\n",
       "        text-align: right;\n",
       "    }\n",
       "</style>\n",
       "<table border=\"1\" class=\"dataframe\">\n",
       "  <thead>\n",
       "    <tr style=\"text-align: right;\">\n",
       "      <th></th>\n",
       "      <th>User</th>\n",
       "      <th>Card</th>\n",
       "      <th>Year</th>\n",
       "      <th>Month</th>\n",
       "      <th>Day</th>\n",
       "      <th>Time</th>\n",
       "      <th>Amount</th>\n",
       "      <th>Use Chip</th>\n",
       "      <th>Merchant Name</th>\n",
       "      <th>Merchant City</th>\n",
       "      <th>Merchant State</th>\n",
       "      <th>Zip</th>\n",
       "      <th>MCC</th>\n",
       "      <th>Errors?</th>\n",
       "      <th>Is Fraud?</th>\n",
       "    </tr>\n",
       "  </thead>\n",
       "  <tbody>\n",
       "    <tr>\n",
       "      <th>0</th>\n",
       "      <td>0</td>\n",
       "      <td>0</td>\n",
       "      <td>2002</td>\n",
       "      <td>9</td>\n",
       "      <td>1</td>\n",
       "      <td>06:21</td>\n",
       "      <td>$134.09</td>\n",
       "      <td>Swipe Transaction</td>\n",
       "      <td>3527213246127876953</td>\n",
       "      <td>La Verne</td>\n",
       "      <td>CA</td>\n",
       "      <td>91750.0</td>\n",
       "      <td>5300</td>\n",
       "      <td>NaN</td>\n",
       "      <td>No</td>\n",
       "    </tr>\n",
       "    <tr>\n",
       "      <th>1</th>\n",
       "      <td>0</td>\n",
       "      <td>0</td>\n",
       "      <td>2002</td>\n",
       "      <td>9</td>\n",
       "      <td>1</td>\n",
       "      <td>06:42</td>\n",
       "      <td>$38.48</td>\n",
       "      <td>Swipe Transaction</td>\n",
       "      <td>-727612092139916043</td>\n",
       "      <td>Monterey Park</td>\n",
       "      <td>CA</td>\n",
       "      <td>91754.0</td>\n",
       "      <td>5411</td>\n",
       "      <td>NaN</td>\n",
       "      <td>No</td>\n",
       "    </tr>\n",
       "    <tr>\n",
       "      <th>2</th>\n",
       "      <td>0</td>\n",
       "      <td>0</td>\n",
       "      <td>2002</td>\n",
       "      <td>9</td>\n",
       "      <td>2</td>\n",
       "      <td>06:22</td>\n",
       "      <td>$120.34</td>\n",
       "      <td>Swipe Transaction</td>\n",
       "      <td>-727612092139916043</td>\n",
       "      <td>Monterey Park</td>\n",
       "      <td>CA</td>\n",
       "      <td>91754.0</td>\n",
       "      <td>5411</td>\n",
       "      <td>NaN</td>\n",
       "      <td>No</td>\n",
       "    </tr>\n",
       "    <tr>\n",
       "      <th>3</th>\n",
       "      <td>0</td>\n",
       "      <td>0</td>\n",
       "      <td>2002</td>\n",
       "      <td>9</td>\n",
       "      <td>2</td>\n",
       "      <td>17:45</td>\n",
       "      <td>$128.95</td>\n",
       "      <td>Swipe Transaction</td>\n",
       "      <td>3414527459579106770</td>\n",
       "      <td>Monterey Park</td>\n",
       "      <td>CA</td>\n",
       "      <td>91754.0</td>\n",
       "      <td>5651</td>\n",
       "      <td>NaN</td>\n",
       "      <td>No</td>\n",
       "    </tr>\n",
       "    <tr>\n",
       "      <th>4</th>\n",
       "      <td>0</td>\n",
       "      <td>0</td>\n",
       "      <td>2002</td>\n",
       "      <td>9</td>\n",
       "      <td>3</td>\n",
       "      <td>06:23</td>\n",
       "      <td>$104.71</td>\n",
       "      <td>Swipe Transaction</td>\n",
       "      <td>5817218446178736267</td>\n",
       "      <td>La Verne</td>\n",
       "      <td>CA</td>\n",
       "      <td>91750.0</td>\n",
       "      <td>5912</td>\n",
       "      <td>NaN</td>\n",
       "      <td>No</td>\n",
       "    </tr>\n",
       "  </tbody>\n",
       "</table>\n",
       "</div>"
      ],
      "text/plain": [
       "   User  Card  Year  Month  Day   Time   Amount           Use Chip  \\\n",
       "0     0     0  2002      9    1  06:21  $134.09  Swipe Transaction   \n",
       "1     0     0  2002      9    1  06:42   $38.48  Swipe Transaction   \n",
       "2     0     0  2002      9    2  06:22  $120.34  Swipe Transaction   \n",
       "3     0     0  2002      9    2  17:45  $128.95  Swipe Transaction   \n",
       "4     0     0  2002      9    3  06:23  $104.71  Swipe Transaction   \n",
       "\n",
       "         Merchant Name  Merchant City Merchant State      Zip   MCC Errors?  \\\n",
       "0  3527213246127876953       La Verne             CA  91750.0  5300     NaN   \n",
       "1  -727612092139916043  Monterey Park             CA  91754.0  5411     NaN   \n",
       "2  -727612092139916043  Monterey Park             CA  91754.0  5411     NaN   \n",
       "3  3414527459579106770  Monterey Park             CA  91754.0  5651     NaN   \n",
       "4  5817218446178736267       La Verne             CA  91750.0  5912     NaN   \n",
       "\n",
       "  Is Fraud?  \n",
       "0        No  \n",
       "1        No  \n",
       "2        No  \n",
       "3        No  \n",
       "4        No  "
      ]
     },
     "execution_count": 6,
     "metadata": {},
     "output_type": "execute_result"
    }
   ],
   "source": [
    "df.head(5)"
   ]
  },
  {
   "cell_type": "code",
   "execution_count": 7,
   "id": "7fd137bf-fea2-4b3b-afa8-71d61e1e9c33",
   "metadata": {},
   "outputs": [
    {
     "data": {
      "text/plain": [
       "Is Fraud?\n",
       "No     0.99878\n",
       "Yes    0.00122\n",
       "Name: proportion, dtype: float64"
      ]
     },
     "execution_count": 7,
     "metadata": {},
     "output_type": "execute_result"
    }
   ],
   "source": [
    "df['Is Fraud?'].value_counts(normalize=True)"
   ]
  },
  {
   "cell_type": "code",
   "execution_count": 8,
   "id": "44d7eabe-4f9f-43f8-bec5-410ad25cdb44",
   "metadata": {},
   "outputs": [
    {
     "data": {
      "text/plain": [
       "User                     0\n",
       "Card                     0\n",
       "Year                     0\n",
       "Month                    0\n",
       "Day                      0\n",
       "Time                     0\n",
       "Amount                   0\n",
       "Use Chip                 0\n",
       "Merchant Name            0\n",
       "Merchant City            0\n",
       "Merchant State     2720821\n",
       "Zip                2878135\n",
       "MCC                      0\n",
       "Errors?           23998469\n",
       "Is Fraud?                0\n",
       "dtype: int64"
      ]
     },
     "execution_count": 8,
     "metadata": {},
     "output_type": "execute_result"
    }
   ],
   "source": [
    "df.isnull().sum()"
   ]
  },
  {
   "cell_type": "code",
   "execution_count": 9,
   "id": "be791a9b-684a-4a4d-9d3d-feb996f72a8c",
   "metadata": {},
   "outputs": [
    {
     "data": {
      "text/plain": [
       "User              0.000000\n",
       "Card              0.000000\n",
       "Year              0.000000\n",
       "Month             0.000000\n",
       "Day               0.000000\n",
       "Time              0.000000\n",
       "Amount            0.000000\n",
       "Use Chip          0.000000\n",
       "Merchant Name     0.000000\n",
       "Merchant City     0.000000\n",
       "Merchant State    0.111569\n",
       "Zip               0.118020\n",
       "MCC               0.000000\n",
       "Errors?           0.984072\n",
       "Is Fraud?         0.000000\n",
       "dtype: float64"
      ]
     },
     "execution_count": 9,
     "metadata": {},
     "output_type": "execute_result"
    }
   ],
   "source": [
    "df.isnull().mean()"
   ]
  },
  {
   "cell_type": "markdown",
   "id": "22a9d8b8-665d-4bb0-89b5-a5d2d7522346",
   "metadata": {},
   "source": [
    "# 2. Базовая предобработка"
   ]
  },
  {
   "cell_type": "markdown",
   "id": "11b97197-feb4-47eb-bda6-bf493e98db60",
   "metadata": {},
   "source": [
    "## Amount - убираем знаки $"
   ]
  },
  {
   "cell_type": "code",
   "execution_count": 10,
   "id": "6fce056c-3148-4e38-a03e-3bfbf7d0fff1",
   "metadata": {},
   "outputs": [
    {
     "data": {
      "text/plain": [
       "0    $134.09\n",
       "1     $38.48\n",
       "2    $120.34\n",
       "3    $128.95\n",
       "4    $104.71\n",
       "Name: Amount, dtype: object"
      ]
     },
     "execution_count": 10,
     "metadata": {},
     "output_type": "execute_result"
    }
   ],
   "source": [
    "df.Amount.head(5)"
   ]
  },
  {
   "cell_type": "code",
   "execution_count": 11,
   "id": "2abf41d9-da92-4065-900f-fe5053778b56",
   "metadata": {},
   "outputs": [],
   "source": [
    "df[\"Amount\"]=df[\"Amount\"].str.replace(\"$\",\"\").astype(float)"
   ]
  },
  {
   "cell_type": "code",
   "execution_count": 12,
   "id": "cccd5c34-5677-47e9-acf2-369a70aa295d",
   "metadata": {},
   "outputs": [
    {
     "data": {
      "text/plain": [
       "0    134.09\n",
       "1     38.48\n",
       "2    120.34\n",
       "3    128.95\n",
       "4    104.71\n",
       "Name: Amount, dtype: float64"
      ]
     },
     "execution_count": 12,
     "metadata": {},
     "output_type": "execute_result"
    }
   ],
   "source": [
    "df.Amount.head(5)"
   ]
  },
  {
   "cell_type": "markdown",
   "id": "12fab43e-1fd5-42bf-b21d-9e4cd10ca522",
   "metadata": {},
   "source": [
    "## Time - выделяем время"
   ]
  },
  {
   "cell_type": "code",
   "execution_count": 13,
   "id": "936c6f01-8bfd-46ac-bd67-4dbc2e6ee2ef",
   "metadata": {},
   "outputs": [
    {
     "data": {
      "text/plain": [
       "0    06:21\n",
       "1    06:42\n",
       "2    06:22\n",
       "3    17:45\n",
       "4    06:23\n",
       "Name: Time, dtype: object"
      ]
     },
     "execution_count": 13,
     "metadata": {},
     "output_type": "execute_result"
    }
   ],
   "source": [
    "df.Time.head(5)"
   ]
  },
  {
   "cell_type": "code",
   "execution_count": 14,
   "id": "1fa37ea8-a81a-491d-9377-9f6183efba5c",
   "metadata": {},
   "outputs": [],
   "source": [
    "df[\"Hour\"] = df[\"Time\"].str [0:2]\n",
    "df[\"Minute\"] = df[\"Time\"].str [3:5]\n",
    "df = df.drop(['Time'],axis=1)"
   ]
  },
  {
   "cell_type": "code",
   "execution_count": 15,
   "id": "88d38be5-a826-44d7-92aa-d4776d98c466",
   "metadata": {},
   "outputs": [],
   "source": [
    "# Добавляем timestamp для последующего деления на Train, Validation и Test\n",
    "df['Timestamp'] = pd.to_datetime(df[[\"Year\", \"Month\", \"Day\", \"Hour\", \"Minute\"]])"
   ]
  },
  {
   "cell_type": "markdown",
   "id": "1db121fb-4f40-4a1f-8838-d05cffe0c45b",
   "metadata": {},
   "source": [
    "## Добавим день недели"
   ]
  },
  {
   "cell_type": "code",
   "execution_count": 16,
   "id": "d738a4de-3fcb-4250-8041-2f2c51a68e6c",
   "metadata": {},
   "outputs": [],
   "source": [
    "df['Date'] = pd.to_datetime(df[['Year', 'Month', 'Day']])\n",
    "\n",
    "# Переведем в день недели\n",
    "days = {0:'Пн', 1:'Вт', 2:'Ср', 3:'Чт', 4:'Пт', 5:'Сб', 6:'Вс'}\n",
    "df['Day of Week'] = df['Date'].dt.dayofweek.map(days)"
   ]
  },
  {
   "cell_type": "markdown",
   "id": "b229df5e-e08d-4a37-b3a6-97b4945757e8",
   "metadata": {},
   "source": [
    "## Is Fraud? - бинаризуем"
   ]
  },
  {
   "cell_type": "code",
   "execution_count": 17,
   "id": "f9c5e54f-3c0a-43a2-b9f7-d4448e27e66b",
   "metadata": {},
   "outputs": [],
   "source": [
    "df[\"Is Fraud?\"] = df[\"Is Fraud?\"].apply(lambda x: 1 if x == 'Yes' else 0)"
   ]
  },
  {
   "cell_type": "markdown",
   "id": "22e10d33-01df-4bdb-844a-51bc8cc7cd84",
   "metadata": {},
   "source": [
    "## Заполняем пропуски"
   ]
  },
  {
   "cell_type": "code",
   "execution_count": 18,
   "id": "bdf13f8f-7690-4c21-856a-55b06a6066d9",
   "metadata": {},
   "outputs": [],
   "source": [
    "df['Merchant State']=df['Merchant State'].fillna('unknown')\n",
    "df['Zip']=df['Merchant State'].fillna('0')\n",
    "df['Errors?']=df['Errors?'].fillna('unknown')"
   ]
  },
  {
   "cell_type": "markdown",
   "id": "f65f1f3b-be4c-469b-aee0-33324595731f",
   "metadata": {},
   "source": [
    "## Сохраняем новый набор данных"
   ]
  },
  {
   "cell_type": "code",
   "execution_count": 32,
   "id": "7e35f7e7-0024-4d2e-89fb-4f52d450d9af",
   "metadata": {},
   "outputs": [],
   "source": [
    "df.to_csv('../data/interim/credit_card_transactions-ibm_v2.csv',\n",
    "              header=df.columns,\n",
    "              index=False)"
   ]
  },
  {
   "cell_type": "code",
   "execution_count": 19,
   "id": "24ff5dfc-51c6-4c9d-90cb-41829b022930",
   "metadata": {},
   "outputs": [
    {
     "data": {
      "text/html": [
       "<div>\n",
       "<style scoped>\n",
       "    .dataframe tbody tr th:only-of-type {\n",
       "        vertical-align: middle;\n",
       "    }\n",
       "\n",
       "    .dataframe tbody tr th {\n",
       "        vertical-align: top;\n",
       "    }\n",
       "\n",
       "    .dataframe thead th {\n",
       "        text-align: right;\n",
       "    }\n",
       "</style>\n",
       "<table border=\"1\" class=\"dataframe\">\n",
       "  <thead>\n",
       "    <tr style=\"text-align: right;\">\n",
       "      <th></th>\n",
       "      <th>User</th>\n",
       "      <th>Card</th>\n",
       "      <th>Year</th>\n",
       "      <th>Month</th>\n",
       "      <th>Day</th>\n",
       "      <th>Amount</th>\n",
       "      <th>Use Chip</th>\n",
       "      <th>Merchant Name</th>\n",
       "      <th>Merchant City</th>\n",
       "      <th>Merchant State</th>\n",
       "      <th>Zip</th>\n",
       "      <th>MCC</th>\n",
       "      <th>Errors?</th>\n",
       "      <th>Is Fraud?</th>\n",
       "      <th>Hour</th>\n",
       "      <th>Minute</th>\n",
       "      <th>Timestamp</th>\n",
       "      <th>Date</th>\n",
       "      <th>Day of Week</th>\n",
       "    </tr>\n",
       "  </thead>\n",
       "  <tbody>\n",
       "    <tr>\n",
       "      <th>0</th>\n",
       "      <td>0</td>\n",
       "      <td>0</td>\n",
       "      <td>2002</td>\n",
       "      <td>9</td>\n",
       "      <td>1</td>\n",
       "      <td>134.09</td>\n",
       "      <td>Swipe Transaction</td>\n",
       "      <td>3527213246127876953</td>\n",
       "      <td>La Verne</td>\n",
       "      <td>CA</td>\n",
       "      <td>CA</td>\n",
       "      <td>5300</td>\n",
       "      <td>unknown</td>\n",
       "      <td>0</td>\n",
       "      <td>06</td>\n",
       "      <td>21</td>\n",
       "      <td>2002-09-01 06:21:00</td>\n",
       "      <td>2002-09-01</td>\n",
       "      <td>Вс</td>\n",
       "    </tr>\n",
       "    <tr>\n",
       "      <th>1</th>\n",
       "      <td>0</td>\n",
       "      <td>0</td>\n",
       "      <td>2002</td>\n",
       "      <td>9</td>\n",
       "      <td>1</td>\n",
       "      <td>38.48</td>\n",
       "      <td>Swipe Transaction</td>\n",
       "      <td>-727612092139916043</td>\n",
       "      <td>Monterey Park</td>\n",
       "      <td>CA</td>\n",
       "      <td>CA</td>\n",
       "      <td>5411</td>\n",
       "      <td>unknown</td>\n",
       "      <td>0</td>\n",
       "      <td>06</td>\n",
       "      <td>42</td>\n",
       "      <td>2002-09-01 06:42:00</td>\n",
       "      <td>2002-09-01</td>\n",
       "      <td>Вс</td>\n",
       "    </tr>\n",
       "    <tr>\n",
       "      <th>2</th>\n",
       "      <td>0</td>\n",
       "      <td>0</td>\n",
       "      <td>2002</td>\n",
       "      <td>9</td>\n",
       "      <td>2</td>\n",
       "      <td>120.34</td>\n",
       "      <td>Swipe Transaction</td>\n",
       "      <td>-727612092139916043</td>\n",
       "      <td>Monterey Park</td>\n",
       "      <td>CA</td>\n",
       "      <td>CA</td>\n",
       "      <td>5411</td>\n",
       "      <td>unknown</td>\n",
       "      <td>0</td>\n",
       "      <td>06</td>\n",
       "      <td>22</td>\n",
       "      <td>2002-09-02 06:22:00</td>\n",
       "      <td>2002-09-02</td>\n",
       "      <td>Пн</td>\n",
       "    </tr>\n",
       "    <tr>\n",
       "      <th>3</th>\n",
       "      <td>0</td>\n",
       "      <td>0</td>\n",
       "      <td>2002</td>\n",
       "      <td>9</td>\n",
       "      <td>2</td>\n",
       "      <td>128.95</td>\n",
       "      <td>Swipe Transaction</td>\n",
       "      <td>3414527459579106770</td>\n",
       "      <td>Monterey Park</td>\n",
       "      <td>CA</td>\n",
       "      <td>CA</td>\n",
       "      <td>5651</td>\n",
       "      <td>unknown</td>\n",
       "      <td>0</td>\n",
       "      <td>17</td>\n",
       "      <td>45</td>\n",
       "      <td>2002-09-02 17:45:00</td>\n",
       "      <td>2002-09-02</td>\n",
       "      <td>Пн</td>\n",
       "    </tr>\n",
       "    <tr>\n",
       "      <th>4</th>\n",
       "      <td>0</td>\n",
       "      <td>0</td>\n",
       "      <td>2002</td>\n",
       "      <td>9</td>\n",
       "      <td>3</td>\n",
       "      <td>104.71</td>\n",
       "      <td>Swipe Transaction</td>\n",
       "      <td>5817218446178736267</td>\n",
       "      <td>La Verne</td>\n",
       "      <td>CA</td>\n",
       "      <td>CA</td>\n",
       "      <td>5912</td>\n",
       "      <td>unknown</td>\n",
       "      <td>0</td>\n",
       "      <td>06</td>\n",
       "      <td>23</td>\n",
       "      <td>2002-09-03 06:23:00</td>\n",
       "      <td>2002-09-03</td>\n",
       "      <td>Вт</td>\n",
       "    </tr>\n",
       "  </tbody>\n",
       "</table>\n",
       "</div>"
      ],
      "text/plain": [
       "   User  Card  Year  Month  Day  Amount           Use Chip  \\\n",
       "0     0     0  2002      9    1  134.09  Swipe Transaction   \n",
       "1     0     0  2002      9    1   38.48  Swipe Transaction   \n",
       "2     0     0  2002      9    2  120.34  Swipe Transaction   \n",
       "3     0     0  2002      9    2  128.95  Swipe Transaction   \n",
       "4     0     0  2002      9    3  104.71  Swipe Transaction   \n",
       "\n",
       "         Merchant Name  Merchant City Merchant State Zip   MCC  Errors?  \\\n",
       "0  3527213246127876953       La Verne             CA  CA  5300  unknown   \n",
       "1  -727612092139916043  Monterey Park             CA  CA  5411  unknown   \n",
       "2  -727612092139916043  Monterey Park             CA  CA  5411  unknown   \n",
       "3  3414527459579106770  Monterey Park             CA  CA  5651  unknown   \n",
       "4  5817218446178736267       La Verne             CA  CA  5912  unknown   \n",
       "\n",
       "   Is Fraud? Hour Minute           Timestamp       Date Day of Week  \n",
       "0          0   06     21 2002-09-01 06:21:00 2002-09-01          Вс  \n",
       "1          0   06     42 2002-09-01 06:42:00 2002-09-01          Вс  \n",
       "2          0   06     22 2002-09-02 06:22:00 2002-09-02          Пн  \n",
       "3          0   17     45 2002-09-02 17:45:00 2002-09-02          Пн  \n",
       "4          0   06     23 2002-09-03 06:23:00 2002-09-03          Вт  "
      ]
     },
     "execution_count": 19,
     "metadata": {},
     "output_type": "execute_result"
    }
   ],
   "source": [
    "df.head()"
   ]
  },
  {
   "cell_type": "code",
   "execution_count": null,
   "id": "d2986ee9-7ba9-4f2c-a287-f5013bf32f4d",
   "metadata": {},
   "outputs": [],
   "source": []
  }
 ],
 "metadata": {
  "kernelspec": {
   "display_name": "Python 3 (ipykernel)",
   "language": "python",
   "name": "python3"
  },
  "language_info": {
   "codemirror_mode": {
    "name": "ipython",
    "version": 3
   },
   "file_extension": ".py",
   "mimetype": "text/x-python",
   "name": "python",
   "nbconvert_exporter": "python",
   "pygments_lexer": "ipython3",
   "version": "3.12.3"
  }
 },
 "nbformat": 4,
 "nbformat_minor": 5
}
