{
 "cells": [
  {
   "cell_type": "code",
   "execution_count": 71,
   "id": "28cecd90-3970-4d08-8f93-e4f4de68515e",
   "metadata": {},
   "outputs": [],
   "source": [
    "import pandas as pd\n",
    "import numpy as np\n",
    "\n",
    "from matplotlib import pyplot as plt\n",
    "%matplotlib inline\n",
    "\n",
    "from catboost import CatBoostClassifier"
   ]
  },
  {
   "cell_type": "code",
   "execution_count": 28,
   "id": "26aec16f-9b6d-4a91-ac48-f4d6672ed313",
   "metadata": {},
   "outputs": [],
   "source": [
    "df = pd.read_csv('../data/processed/val.csv')df = pd.read_csv('../data/processed/val.csv')"
   ]
  },
  {
   "cell_type": "code",
   "execution_count": 29,
   "id": "5fd9b554-20a5-456c-979d-1590b0614013",
   "metadata": {},
   "outputs": [
    {
     "data": {
      "text/html": [
       "<div>\n",
       "<style scoped>\n",
       "    .dataframe tbody tr th:only-of-type {\n",
       "        vertical-align: middle;\n",
       "    }\n",
       "\n",
       "    .dataframe tbody tr th {\n",
       "        vertical-align: top;\n",
       "    }\n",
       "\n",
       "    .dataframe thead th {\n",
       "        text-align: right;\n",
       "    }\n",
       "</style>\n",
       "<table border=\"1\" class=\"dataframe\">\n",
       "  <thead>\n",
       "    <tr style=\"text-align: right;\">\n",
       "      <th></th>\n",
       "      <th>User</th>\n",
       "      <th>Card</th>\n",
       "      <th>Year</th>\n",
       "      <th>Month</th>\n",
       "      <th>Day</th>\n",
       "      <th>Amount</th>\n",
       "      <th>Use Chip</th>\n",
       "      <th>Merchant Name</th>\n",
       "      <th>Merchant City</th>\n",
       "      <th>Merchant State</th>\n",
       "      <th>Zip</th>\n",
       "      <th>MCC</th>\n",
       "      <th>Errors?</th>\n",
       "      <th>Is Fraud?</th>\n",
       "      <th>Hour</th>\n",
       "      <th>Minute</th>\n",
       "      <th>Date</th>\n",
       "      <th>Day of Week</th>\n",
       "    </tr>\n",
       "  </thead>\n",
       "  <tbody>\n",
       "    <tr>\n",
       "      <th>0</th>\n",
       "      <td>1888</td>\n",
       "      <td>0</td>\n",
       "      <td>2017</td>\n",
       "      <td>1</td>\n",
       "      <td>21</td>\n",
       "      <td>61.00</td>\n",
       "      <td>Chip Transaction</td>\n",
       "      <td>-1288082279022882052</td>\n",
       "      <td>Berkeley Heights</td>\n",
       "      <td>NJ</td>\n",
       "      <td>7922.0</td>\n",
       "      <td>5499</td>\n",
       "      <td>NaN</td>\n",
       "      <td>0</td>\n",
       "      <td>10</td>\n",
       "      <td>16</td>\n",
       "      <td>2017-01-21</td>\n",
       "      <td>Сб</td>\n",
       "    </tr>\n",
       "    <tr>\n",
       "      <th>1</th>\n",
       "      <td>1608</td>\n",
       "      <td>2</td>\n",
       "      <td>2017</td>\n",
       "      <td>1</td>\n",
       "      <td>21</td>\n",
       "      <td>61.78</td>\n",
       "      <td>Chip Transaction</td>\n",
       "      <td>4989409516453337564</td>\n",
       "      <td>Prairie Village</td>\n",
       "      <td>KS</td>\n",
       "      <td>66208.0</td>\n",
       "      <td>5300</td>\n",
       "      <td>NaN</td>\n",
       "      <td>0</td>\n",
       "      <td>10</td>\n",
       "      <td>16</td>\n",
       "      <td>2017-01-21</td>\n",
       "      <td>Сб</td>\n",
       "    </tr>\n",
       "    <tr>\n",
       "      <th>2</th>\n",
       "      <td>26</td>\n",
       "      <td>0</td>\n",
       "      <td>2017</td>\n",
       "      <td>1</td>\n",
       "      <td>21</td>\n",
       "      <td>11.11</td>\n",
       "      <td>Chip Transaction</td>\n",
       "      <td>2027553650310142703</td>\n",
       "      <td>Virginia Beach</td>\n",
       "      <td>VA</td>\n",
       "      <td>23455.0</td>\n",
       "      <td>5541</td>\n",
       "      <td>NaN</td>\n",
       "      <td>0</td>\n",
       "      <td>10</td>\n",
       "      <td>16</td>\n",
       "      <td>2017-01-21</td>\n",
       "      <td>Сб</td>\n",
       "    </tr>\n",
       "    <tr>\n",
       "      <th>3</th>\n",
       "      <td>490</td>\n",
       "      <td>2</td>\n",
       "      <td>2017</td>\n",
       "      <td>1</td>\n",
       "      <td>21</td>\n",
       "      <td>8.86</td>\n",
       "      <td>Swipe Transaction</td>\n",
       "      <td>50639245984060890</td>\n",
       "      <td>Pompano Beach</td>\n",
       "      <td>FL</td>\n",
       "      <td>33060.0</td>\n",
       "      <td>5411</td>\n",
       "      <td>NaN</td>\n",
       "      <td>0</td>\n",
       "      <td>10</td>\n",
       "      <td>16</td>\n",
       "      <td>2017-01-21</td>\n",
       "      <td>Сб</td>\n",
       "    </tr>\n",
       "    <tr>\n",
       "      <th>4</th>\n",
       "      <td>272</td>\n",
       "      <td>3</td>\n",
       "      <td>2017</td>\n",
       "      <td>1</td>\n",
       "      <td>21</td>\n",
       "      <td>19.92</td>\n",
       "      <td>Chip Transaction</td>\n",
       "      <td>-4752064311331295725</td>\n",
       "      <td>Elk Grove</td>\n",
       "      <td>CA</td>\n",
       "      <td>95758.0</td>\n",
       "      <td>4214</td>\n",
       "      <td>NaN</td>\n",
       "      <td>0</td>\n",
       "      <td>10</td>\n",
       "      <td>17</td>\n",
       "      <td>2017-01-21</td>\n",
       "      <td>Сб</td>\n",
       "    </tr>\n",
       "  </tbody>\n",
       "</table>\n",
       "</div>"
      ],
      "text/plain": [
       "   User  Card  Year  Month  Day  Amount           Use Chip  \\\n",
       "0  1888     0  2017      1   21   61.00   Chip Transaction   \n",
       "1  1608     2  2017      1   21   61.78   Chip Transaction   \n",
       "2    26     0  2017      1   21   11.11   Chip Transaction   \n",
       "3   490     2  2017      1   21    8.86  Swipe Transaction   \n",
       "4   272     3  2017      1   21   19.92   Chip Transaction   \n",
       "\n",
       "         Merchant Name     Merchant City Merchant State      Zip   MCC  \\\n",
       "0 -1288082279022882052  Berkeley Heights             NJ   7922.0  5499   \n",
       "1  4989409516453337564   Prairie Village             KS  66208.0  5300   \n",
       "2  2027553650310142703    Virginia Beach             VA  23455.0  5541   \n",
       "3    50639245984060890     Pompano Beach             FL  33060.0  5411   \n",
       "4 -4752064311331295725         Elk Grove             CA  95758.0  4214   \n",
       "\n",
       "  Errors?  Is Fraud?  Hour  Minute        Date Day of Week  \n",
       "0     NaN          0    10      16  2017-01-21          Сб  \n",
       "1     NaN          0    10      16  2017-01-21          Сб  \n",
       "2     NaN          0    10      16  2017-01-21          Сб  \n",
       "3     NaN          0    10      16  2017-01-21          Сб  \n",
       "4     NaN          0    10      17  2017-01-21          Сб  "
      ]
     },
     "execution_count": 29,
     "metadata": {},
     "output_type": "execute_result"
    }
   ],
   "source": [
    "df.head()"
   ]
  },
  {
   "cell_type": "code",
   "execution_count": 30,
   "id": "ba08fbca-ed19-4242-92c5-a8bc5698dd12",
   "metadata": {},
   "outputs": [
    {
     "data": {
      "text/plain": [
       "Index(['User', 'Card', 'Year', 'Month', 'Day', 'Amount', 'Use Chip',\n",
       "       'Merchant Name', 'Merchant City', 'Merchant State', 'Zip', 'MCC',\n",
       "       'Errors?', 'Is Fraud?', 'Hour', 'Minute', 'Date', 'Day of Week'],\n",
       "      dtype='object')"
      ]
     },
     "execution_count": 30,
     "metadata": {},
     "output_type": "execute_result"
    }
   ],
   "source": [
    "df.columns"
   ]
  },
  {
   "cell_type": "code",
   "execution_count": 31,
   "id": "14c8bc2e-05d6-4453-a76e-8e071e4b9ab3",
   "metadata": {},
   "outputs": [
    {
     "name": "stdout",
     "output_type": "stream",
     "text": [
      "<class 'pandas.core.frame.DataFrame'>\n",
      "RangeIndex: 3348970 entries, 0 to 3348969\n",
      "Data columns (total 18 columns):\n",
      " #   Column          Dtype  \n",
      "---  ------          -----  \n",
      " 0   User            int64  \n",
      " 1   Card            int64  \n",
      " 2   Year            int64  \n",
      " 3   Month           int64  \n",
      " 4   Day             int64  \n",
      " 5   Amount          float64\n",
      " 6   Use Chip        object \n",
      " 7   Merchant Name   int64  \n",
      " 8   Merchant City   object \n",
      " 9   Merchant State  object \n",
      " 10  Zip             float64\n",
      " 11  MCC             int64  \n",
      " 12  Errors?         object \n",
      " 13  Is Fraud?       int64  \n",
      " 14  Hour            int64  \n",
      " 15  Minute          int64  \n",
      " 16  Date            object \n",
      " 17  Day of Week     object \n",
      "dtypes: float64(2), int64(10), object(6)\n",
      "memory usage: 459.9+ MB\n"
     ]
    }
   ],
   "source": [
    "df.info()"
   ]
  },
  {
   "cell_type": "code",
   "execution_count": 44,
   "id": "e6d8e8da-db27-45f6-b20a-f230a2066806",
   "metadata": {},
   "outputs": [],
   "source": [
    "cat_features = ['User', 'Card', 'Use Chip',\n",
    "                'Merchant Name', 'Merchant City', 'MCC',\n",
    "                'Hour', 'Day of Week']\n",
    "num_features = ['Amount']\n",
    "target = 'Is Fraud?'"
   ]
  },
  {
   "cell_type": "code",
   "execution_count": 45,
   "id": "2fcf1ec9-17d1-4424-a868-c00d8fc39a19",
   "metadata": {},
   "outputs": [],
   "source": [
    "df.Amount = df.Amount.astype('float')\n",
    "df.User = df.User.astype('object')\n",
    "df.Card = df.Card.astype('object')\n",
    "df['Merchant Name'] = df['Merchant Name'].astype('object')\n",
    "df.Zip = df.Zip.astype('object')\n",
    "df.MCC = df.MCC.astype('object')\n",
    "df.Hour = df.Hour.astype('object')"
   ]
  },
  {
   "cell_type": "code",
   "execution_count": 47,
   "id": "7560e75b-79e8-4cac-92a9-20ae458262db",
   "metadata": {},
   "outputs": [],
   "source": [
    "y = df[target]"
   ]
  },
  {
   "cell_type": "code",
   "execution_count": 48,
   "id": "7013013a-de76-4c10-ad98-d2274461294f",
   "metadata": {},
   "outputs": [],
   "source": [
    "X = df[cat_features + num_features]"
   ]
  },
  {
   "cell_type": "code",
   "execution_count": 49,
   "id": "cd06aa8c-7448-493d-80f2-98f8829209ad",
   "metadata": {},
   "outputs": [
    {
     "data": {
      "text/plain": [
       "User             0\n",
       "Card             0\n",
       "Use Chip         0\n",
       "Merchant Name    0\n",
       "Merchant City    0\n",
       "MCC              0\n",
       "Hour             0\n",
       "Day of Week      0\n",
       "Amount           0\n",
       "dtype: int64"
      ]
     },
     "execution_count": 49,
     "metadata": {},
     "output_type": "execute_result"
    }
   ],
   "source": [
    "X.isna().sum()"
   ]
  },
  {
   "cell_type": "code",
   "execution_count": 50,
   "id": "dc6c2619-2b3a-43dc-872f-9497ad75c7c0",
   "metadata": {},
   "outputs": [],
   "source": [
    "from sklearn.model_selection import train_test_split"
   ]
  },
  {
   "cell_type": "code",
   "execution_count": 51,
   "id": "91d78a00-600f-4ca2-8568-99cb0bc0af0c",
   "metadata": {},
   "outputs": [],
   "source": [
    "X_train, X_val, y_train, y_val = train_test_split(X, y, test_size=0.2, random_state=0)"
   ]
  },
  {
   "cell_type": "code",
   "execution_count": 52,
   "id": "6d60341e-3268-4675-83f3-945fabf0c15a",
   "metadata": {},
   "outputs": [],
   "source": [
    "from catboost import CatBoostClassifier"
   ]
  },
  {
   "cell_type": "code",
   "execution_count": 54,
   "id": "59b09c7e-b961-4483-8cb6-04052747f36f",
   "metadata": {},
   "outputs": [
    {
     "name": "stdout",
     "output_type": "stream",
     "text": [
      "0:\tlearn: 0.5984490\ttest: 0.5984552\tbest: 0.5984552 (0)\ttotal: 196ms\tremaining: 19.4s\n",
      "5:\tlearn: 0.3146988\ttest: 0.3147343\tbest: 0.3147343 (5)\ttotal: 628ms\tremaining: 9.84s\n",
      "10:\tlearn: 0.1787471\ttest: 0.1788054\tbest: 0.1788054 (10)\ttotal: 1.21s\tremaining: 9.76s\n",
      "15:\tlearn: 0.1055363\ttest: 0.1056165\tbest: 0.1056165 (15)\ttotal: 1.55s\tremaining: 8.14s\n",
      "20:\tlearn: 0.0640529\ttest: 0.0641534\tbest: 0.0641534 (20)\ttotal: 1.86s\tremaining: 7.01s\n",
      "25:\tlearn: 0.0384941\ttest: 0.0385203\tbest: 0.0385203 (25)\ttotal: 2.37s\tremaining: 6.76s\n",
      "30:\tlearn: 0.0232856\ttest: 0.0232780\tbest: 0.0232780 (30)\ttotal: 3.07s\tremaining: 6.84s\n",
      "35:\tlearn: 0.0143129\ttest: 0.0142883\tbest: 0.0142883 (35)\ttotal: 3.78s\tremaining: 6.72s\n",
      "40:\tlearn: 0.0089225\ttest: 0.0088956\tbest: 0.0088956 (40)\ttotal: 4.48s\tremaining: 6.45s\n",
      "45:\tlearn: 0.0056797\ttest: 0.0056508\tbest: 0.0056508 (45)\ttotal: 5.16s\tremaining: 6.06s\n",
      "50:\tlearn: 0.0037302\ttest: 0.0037005\tbest: 0.0037005 (50)\ttotal: 5.9s\tremaining: 5.67s\n",
      "55:\tlearn: 0.0025561\ttest: 0.0025234\tbest: 0.0025234 (55)\ttotal: 6.69s\tremaining: 5.26s\n",
      "60:\tlearn: 0.0018405\ttest: 0.0018079\tbest: 0.0018079 (60)\ttotal: 7.44s\tremaining: 4.76s\n",
      "65:\tlearn: 0.0014095\ttest: 0.0013756\tbest: 0.0013756 (65)\ttotal: 8.16s\tremaining: 4.2s\n",
      "70:\tlearn: 0.0011520\ttest: 0.0011185\tbest: 0.0011185 (70)\ttotal: 8.84s\tremaining: 3.61s\n",
      "75:\tlearn: 0.0010002\ttest: 0.0009680\tbest: 0.0009680 (75)\ttotal: 9.54s\tremaining: 3.01s\n",
      "80:\tlearn: 0.0009145\ttest: 0.0008835\tbest: 0.0008835 (80)\ttotal: 10.3s\tremaining: 2.42s\n",
      "85:\tlearn: 0.0008624\ttest: 0.0008308\tbest: 0.0008308 (85)\ttotal: 11.1s\tremaining: 1.8s\n",
      "90:\tlearn: 0.0008246\ttest: 0.0007919\tbest: 0.0007919 (90)\ttotal: 11.9s\tremaining: 1.17s\n",
      "95:\tlearn: 0.0007972\ttest: 0.0007647\tbest: 0.0007647 (95)\ttotal: 12.6s\tremaining: 527ms\n",
      "99:\tlearn: 0.0007831\ttest: 0.0007511\tbest: 0.0007511 (99)\ttotal: 13.3s\tremaining: 0us\n",
      "\n",
      "bestTest = 0.0007511307369\n",
      "bestIteration = 99\n",
      "\n"
     ]
    },
    {
     "data": {
      "text/plain": [
       "<catboost.core.CatBoostClassifier at 0x3bfac8500>"
      ]
     },
     "execution_count": 54,
     "metadata": {},
     "output_type": "execute_result"
    }
   ],
   "source": [
    "clf = CatBoostClassifier(\n",
    "    iterations=100,\n",
    "    learning_rate=0.1\n",
    ")\n",
    "\n",
    "clf.fit(X_train, y_train,\n",
    "       cat_features=cat_features,\n",
    "       eval_set=(X_val, y_val),\n",
    "       verbose=5)"
   ]
  },
  {
   "cell_type": "code",
   "execution_count": 55,
   "id": "6bbbc12d-dace-4aa5-94e6-a70c45760dfe",
   "metadata": {},
   "outputs": [],
   "source": [
    "df_test = pd.read_csv('../data/processed/test.csv')"
   ]
  },
  {
   "cell_type": "code",
   "execution_count": 56,
   "id": "7493d083-e4d1-47e8-9738-23c87045b017",
   "metadata": {},
   "outputs": [],
   "source": [
    "y_test = df_test[target]"
   ]
  },
  {
   "cell_type": "code",
   "execution_count": 57,
   "id": "f3bc63ba-7b95-42d7-a1c6-43a711bfa800",
   "metadata": {},
   "outputs": [],
   "source": [
    "X_test = df_test[cat_features + num_features]"
   ]
  },
  {
   "cell_type": "code",
   "execution_count": 61,
   "id": "0859a183-336e-44b5-97dd-dae5da0fe590",
   "metadata": {},
   "outputs": [],
   "source": [
    "preds = clf.predict(data=X_test)"
   ]
  },
  {
   "cell_type": "code",
   "execution_count": 64,
   "id": "7b47fbf8-a849-4c1d-95d5-88e8b3d7fbde",
   "metadata": {},
   "outputs": [],
   "source": [
    "from sklearn.metrics import classification_report, confusion_matrix"
   ]
  },
  {
   "cell_type": "code",
   "execution_count": 65,
   "id": "97d205e0-3cad-40c2-b9ca-10091059651d",
   "metadata": {},
   "outputs": [
    {
     "name": "stdout",
     "output_type": "stream",
     "text": [
      "              precision    recall  f1-score   support\n",
      "\n",
      "           0       1.00      1.00      1.00   1721851\n",
      "           1       0.85      0.94      0.89      2087\n",
      "\n",
      "    accuracy                           1.00   1723938\n",
      "   macro avg       0.92      0.97      0.95   1723938\n",
      "weighted avg       1.00      1.00      1.00   1723938\n",
      "\n"
     ]
    }
   ],
   "source": [
    "print(classification_report(y_test, preds))"
   ]
  },
  {
   "cell_type": "code",
   "execution_count": 66,
   "id": "46d5a136-92a1-4f5b-a9ea-7333590acdd5",
   "metadata": {},
   "outputs": [
    {
     "name": "stdout",
     "output_type": "stream",
     "text": [
      "[[1721496     355]\n",
      " [    118    1969]]\n"
     ]
    }
   ],
   "source": [
    "print(confusion_matrix(y_test, preds))"
   ]
  },
  {
   "cell_type": "code",
   "execution_count": 67,
   "id": "39f034f4-1964-4569-9659-8024c6f93f51",
   "metadata": {},
   "outputs": [],
   "source": [
    "from sklearn.metrics import ConfusionMatrixDisplay"
   ]
  },
  {
   "cell_type": "code",
   "execution_count": 72,
   "id": "44d690cd-64e0-4b5f-a360-64af5dce100b",
   "metadata": {},
   "outputs": [
    {
     "data": {
      "image/png": "[encoded data removed]",
      "text/plain": [
       "<Figure size 640x480 with 2 Axes>"
      ]
     },
     "metadata": {},
     "output_type": "display_data"
    }
   ],
   "source": [
    "disp = ConfusionMatrixDisplay(confusion_matrix=confusion_matrix(y_test, preds))\n",
    "disp.plot()\n",
    "plt.show()"
   ]
  },
  {
   "cell_type": "code",
   "execution_count": 87,
   "id": "a8c8fb65-82e7-41f0-9f76-6da88d03b80b",
   "metadata": {},
   "outputs": [
    {
     "name": "stderr",
     "output_type": "stream",
     "text": [
      "/var/folders/4k/mwht33nx1y3874hyv4dvd6x00000gn/T/ipykernel_7167/2607284807.py:1: SettingWithCopyWarning: \n",
      "A value is trying to be set on a copy of a slice from a DataFrame.\n",
      "Try using .loc[row_indexer,col_indexer] = value instead\n",
      "\n",
      "See the caveats in the documentation: https://pandas.pydata.org/pandas-docs/stable/user_guide/indexing.html#returning-a-view-versus-a-copy\n",
      "  X_test['Fraud'] = y_test\n"
     ]
    }
   ],
   "source": [
    "X_test['Fraud'] = y_test"
   ]
  },
  {
   "cell_type": "code",
   "execution_count": 90,
   "id": "1521f84d-ef00-4423-9266-a0d9ab7b4525",
   "metadata": {},
   "outputs": [
    {
     "data": {
      "text/plain": [
       "160169.75"
      ]
     },
     "execution_count": 90,
     "metadata": {},
     "output_type": "execute_result"
    }
   ],
   "source": [
    "X_test[(X_test.Fraud == 1) & (X_test.Prediction == 1)].Amount.sum()"
   ]
  },
  {
   "cell_type": "code",
   "execution_count": 91,
   "id": "ede386c4-b422-4925-870a-ea7d0264cdad",
   "metadata": {},
   "outputs": [
    {
     "data": {
      "text/plain": [
       "165754.86"
      ]
     },
     "execution_count": 91,
     "metadata": {},
     "output_type": "execute_result"
    }
   ],
   "source": [
    "X_test[(X_test.Fraud == 1)].Amount.sum()"
   ]
  },
  {
   "cell_type": "code",
   "execution_count": null,
   "id": "9f27ad31-ae26-456a-9669-d5ad0b3894ae",
   "metadata": {},
   "outputs": [],
   "source": []
  },
  {
   "cell_type": "code",
   "execution_count": 93,
   "id": "a8d830e5-1f8d-4a59-81c2-ceb38d337304",
   "metadata": {},
   "outputs": [],
   "source": [
    "## Dealing with imbalanced classes"
   ]
  },
  {
   "cell_type": "code",
   "execution_count": 94,
   "id": "f9e459d1-dc14-442d-8ed5-a68aa17f47e4",
   "metadata": {},
   "outputs": [
    {
     "name": "stdout",
     "output_type": "stream",
     "text": [
      "0:\tlearn: 0.6070994\ttest: 0.6066060\tbest: 0.6066060 (0)\ttotal: 297ms\tremaining: 29.4s\n",
      "5:\tlearn: 0.3552831\ttest: 0.3516511\tbest: 0.3516511 (5)\ttotal: 923ms\tremaining: 14.5s\n",
      "10:\tlearn: 0.2303576\ttest: 0.2258084\tbest: 0.2258084 (10)\ttotal: 1.54s\tremaining: 12.5s\n",
      "15:\tlearn: 0.1647393\ttest: 0.1599316\tbest: 0.1599316 (15)\ttotal: 2.14s\tremaining: 11.3s\n",
      "20:\tlearn: 0.1143719\ttest: 0.1122591\tbest: 0.1122591 (20)\ttotal: 2.84s\tremaining: 10.7s\n",
      "25:\tlearn: 0.0872219\ttest: 0.0862086\tbest: 0.0862086 (25)\ttotal: 3.52s\tremaining: 10s\n",
      "30:\tlearn: 0.0717701\ttest: 0.0717308\tbest: 0.0717308 (30)\ttotal: 4.27s\tremaining: 9.51s\n",
      "35:\tlearn: 0.0605523\ttest: 0.0530054\tbest: 0.0530054 (35)\ttotal: 4.94s\tremaining: 8.78s\n",
      "40:\tlearn: 0.0539769\ttest: 0.0475722\tbest: 0.0475722 (40)\ttotal: 5.61s\tremaining: 8.08s\n",
      "45:\tlearn: 0.0478240\ttest: 0.0426005\tbest: 0.0426005 (45)\ttotal: 6.37s\tremaining: 7.48s\n",
      "50:\tlearn: 0.0436561\ttest: 0.0393330\tbest: 0.0393330 (50)\ttotal: 7.04s\tremaining: 6.76s\n",
      "55:\tlearn: 0.0414151\ttest: 0.0377466\tbest: 0.0377353 (54)\ttotal: 7.72s\tremaining: 6.07s\n",
      "60:\tlearn: 0.0396248\ttest: 0.0361392\tbest: 0.0361392 (60)\ttotal: 8.39s\tremaining: 5.37s\n",
      "65:\tlearn: 0.0378857\ttest: 0.0348293\tbest: 0.0348293 (65)\ttotal: 9s\tremaining: 4.64s\n",
      "70:\tlearn: 0.0362901\ttest: 0.0335635\tbest: 0.0335635 (70)\ttotal: 9.71s\tremaining: 3.97s\n",
      "75:\tlearn: 0.0358334\ttest: 0.0329858\tbest: 0.0329858 (75)\ttotal: 10.3s\tremaining: 3.25s\n",
      "80:\tlearn: 0.0343745\ttest: 0.0327386\tbest: 0.0327386 (80)\ttotal: 11s\tremaining: 2.58s\n",
      "85:\tlearn: 0.0333593\ttest: 0.0319738\tbest: 0.0319735 (84)\ttotal: 11.7s\tremaining: 1.9s\n",
      "90:\tlearn: 0.0323111\ttest: 0.0312498\tbest: 0.0312495 (89)\ttotal: 12.2s\tremaining: 1.21s\n",
      "95:\tlearn: 0.0312350\ttest: 0.0307438\tbest: 0.0307438 (95)\ttotal: 12.8s\tremaining: 532ms\n",
      "99:\tlearn: 0.0308112\ttest: 0.0304519\tbest: 0.0304519 (99)\ttotal: 13.3s\tremaining: 0us\n",
      "\n",
      "bestTest = 0.03045191195\n",
      "bestIteration = 99\n",
      "\n"
     ]
    },
    {
     "data": {
      "text/plain": [
       "<catboost.core.CatBoostClassifier at 0x35fcb4530>"
      ]
     },
     "execution_count": 94,
     "metadata": {},
     "output_type": "execute_result"
    }
   ],
   "source": [
    "clf2 = CatBoostClassifier(\n",
    "    iterations=100,\n",
    "    learning_rate=0.1,\n",
    "    auto_class_weights='Balanced'\n",
    ")\n",
    "\n",
    "clf2.fit(X_train, y_train,\n",
    "       cat_features=cat_features,\n",
    "       eval_set=(X_val, y_val),\n",
    "       verbose=5)"
   ]
  },
  {
   "cell_type": "code",
   "execution_count": 95,
   "id": "e0bd874d-ea03-45ea-b6a0-dfd5612e0503",
   "metadata": {},
   "outputs": [],
   "source": [
    "preds2 = clf2.predict(data=X_test)"
   ]
  },
  {
   "cell_type": "code",
   "execution_count": 96,
   "id": "56697f1b-291c-4035-87f0-b84749507658",
   "metadata": {},
   "outputs": [
    {
     "name": "stdout",
     "output_type": "stream",
     "text": [
      "              precision    recall  f1-score   support\n",
      "\n",
      "           0       1.00      0.99      1.00   1721851\n",
      "           1       0.12      1.00      0.21      2087\n",
      "\n",
      "    accuracy                           0.99   1723938\n",
      "   macro avg       0.56      1.00      0.60   1723938\n",
      "weighted avg       1.00      0.99      0.99   1723938\n",
      "\n"
     ]
    }
   ],
   "source": [
    "print(classification_report(y_test, preds2))"
   ]
  },
  {
   "cell_type": "code",
   "execution_count": 97,
   "id": "b2363967-5018-452e-aaf2-f56182d6a81e",
   "metadata": {},
   "outputs": [
    {
     "data": {
      "image/png": "[encoded data removed]",
      "text/plain": [
       "<Figure size 640x480 with 2 Axes>"
      ]
     },
     "metadata": {},
     "output_type": "display_data"
    }
   ],
   "source": [
    "disp = ConfusionMatrixDisplay(confusion_matrix=confusion_matrix(y_test, preds2))\n",
    "disp.plot()\n",
    "plt.show()"
   ]
  },
  {
   "cell_type": "code",
   "execution_count": 98,
   "id": "afbb31c1-90a8-4720-9db2-8dabb9fcebcb",
   "metadata": {},
   "outputs": [
    {
     "name": "stdout",
     "output_type": "stream",
     "text": [
      "0:\tlearn: 0.6079267\ttest: 0.6081116\tbest: 0.6081116 (0)\ttotal: 257ms\tremaining: 25.4s\n",
      "5:\tlearn: 0.3362484\ttest: 0.3366039\tbest: 0.3366039 (5)\ttotal: 825ms\tremaining: 12.9s\n",
      "10:\tlearn: 0.1909648\ttest: 0.1909251\tbest: 0.1909251 (10)\ttotal: 1.45s\tremaining: 11.7s\n",
      "15:\tlearn: 0.1140746\ttest: 0.1138350\tbest: 0.1138350 (15)\ttotal: 2s\tremaining: 10.5s\n",
      "20:\tlearn: 0.0708890\ttest: 0.0705109\tbest: 0.0705109 (20)\ttotal: 2.54s\tremaining: 9.57s\n",
      "25:\tlearn: 0.0459651\ttest: 0.0454927\tbest: 0.0454927 (25)\ttotal: 3.22s\tremaining: 9.17s\n",
      "30:\tlearn: 0.0313242\ttest: 0.0308536\tbest: 0.0308536 (30)\ttotal: 3.94s\tremaining: 8.76s\n",
      "35:\tlearn: 0.0225444\ttest: 0.0221166\tbest: 0.0221166 (35)\ttotal: 4.65s\tremaining: 8.27s\n",
      "40:\tlearn: 0.0168383\ttest: 0.0166940\tbest: 0.0166940 (40)\ttotal: 5.41s\tremaining: 7.79s\n",
      "45:\tlearn: 0.0137451\ttest: 0.0136616\tbest: 0.0136616 (45)\ttotal: 6.22s\tremaining: 7.3s\n",
      "50:\tlearn: 0.0116408\ttest: 0.0117244\tbest: 0.0117244 (50)\ttotal: 6.95s\tremaining: 6.67s\n",
      "55:\tlearn: 0.0102972\ttest: 0.0101792\tbest: 0.0101792 (55)\ttotal: 7.72s\tremaining: 6.07s\n",
      "60:\tlearn: 0.0093254\ttest: 0.0092399\tbest: 0.0092399 (60)\ttotal: 8.5s\tremaining: 5.43s\n",
      "65:\tlearn: 0.0087568\ttest: 0.0087108\tbest: 0.0087108 (65)\ttotal: 9.29s\tremaining: 4.79s\n",
      "70:\tlearn: 0.0082838\ttest: 0.0082117\tbest: 0.0082117 (70)\ttotal: 10s\tremaining: 4.1s\n",
      "75:\tlearn: 0.0079554\ttest: 0.0079411\tbest: 0.0079411 (75)\ttotal: 10.8s\tremaining: 3.41s\n",
      "80:\tlearn: 0.0077019\ttest: 0.0076842\tbest: 0.0076842 (80)\ttotal: 11.6s\tremaining: 2.72s\n",
      "85:\tlearn: 0.0074981\ttest: 0.0074693\tbest: 0.0074693 (85)\ttotal: 12.3s\tremaining: 2.01s\n",
      "90:\tlearn: 0.0073594\ttest: 0.0073502\tbest: 0.0073502 (90)\ttotal: 13.1s\tremaining: 1.3s\n",
      "95:\tlearn: 0.0072138\ttest: 0.0071916\tbest: 0.0071916 (95)\ttotal: 13.9s\tremaining: 578ms\n",
      "99:\tlearn: 0.0070492\ttest: 0.0070700\tbest: 0.0070700 (99)\ttotal: 14.5s\tremaining: 0us\n",
      "\n",
      "bestTest = 0.007069962292\n",
      "bestIteration = 99\n",
      "\n"
     ]
    },
    {
     "data": {
      "text/plain": [
       "<catboost.core.CatBoostClassifier at 0x35fdde7e0>"
      ]
     },
     "execution_count": 98,
     "metadata": {},
     "output_type": "execute_result"
    }
   ],
   "source": [
    "clf3 = CatBoostClassifier(\n",
    "    iterations=100,\n",
    "    learning_rate=0.1,\n",
    "    auto_class_weights='SqrtBalanced'\n",
    ")\n",
    "\n",
    "clf3.fit(X_train, y_train,\n",
    "       cat_features=cat_features,\n",
    "       eval_set=(X_val, y_val),\n",
    "       verbose=5)"
   ]
  },
  {
   "cell_type": "code",
   "execution_count": 99,
   "id": "282e9375-bda5-455d-bb03-f7738b069ff8",
   "metadata": {},
   "outputs": [],
   "source": [
    "preds3 = clf3.predict(data=X_test)"
   ]
  },
  {
   "cell_type": "code",
   "execution_count": 100,
   "id": "8454041c-6b0c-44ad-8262-d9d32600e343",
   "metadata": {},
   "outputs": [
    {
     "name": "stdout",
     "output_type": "stream",
     "text": [
      "              precision    recall  f1-score   support\n",
      "\n",
      "           0       1.00      1.00      1.00   1721851\n",
      "           1       0.71      1.00      0.83      2087\n",
      "\n",
      "    accuracy                           1.00   1723938\n",
      "   macro avg       0.86      1.00      0.92   1723938\n",
      "weighted avg       1.00      1.00      1.00   1723938\n",
      "\n"
     ]
    },
    {
     "data": {
      "image/png": "[encoded data removed]",
      "text/plain": [
       "<Figure size 640x480 with 2 Axes>"
      ]
     },
     "metadata": {},
     "output_type": "display_data"
    }
   ],
   "source": [
    "print(classification_report(y_test, preds3))\n",
    "disp = ConfusionMatrixDisplay(confusion_matrix=confusion_matrix(y_test, preds3))\n",
    "disp.plot()\n",
    "plt.show()"
   ]
  },
  {
   "cell_type": "code",
   "execution_count": 101,
   "id": "a2cb46f1-b068-461c-9e4c-18332d323500",
   "metadata": {},
   "outputs": [
    {
     "name": "stderr",
     "output_type": "stream",
     "text": [
      "/var/folders/4k/mwht33nx1y3874hyv4dvd6x00000gn/T/ipykernel_7167/3955559077.py:1: SettingWithCopyWarning: \n",
      "A value is trying to be set on a copy of a slice from a DataFrame.\n",
      "Try using .loc[row_indexer,col_indexer] = value instead\n",
      "\n",
      "See the caveats in the documentation: https://pandas.pydata.org/pandas-docs/stable/user_guide/indexing.html#returning-a-view-versus-a-copy\n",
      "  X_test.Prediction = preds3\n"
     ]
    },
    {
     "data": {
      "text/plain": [
       "165954.37"
      ]
     },
     "execution_count": 101,
     "metadata": {},
     "output_type": "execute_result"
    }
   ],
   "source": [
    "X_test.Prediction = preds3\n",
    "X_test[(X_test.Fraud == 1) & (X_test.Prediction == 1)].Amount.sum()"
   ]
  },
  {
   "cell_type": "code",
   "execution_count": 102,
   "id": "dc2dfea4-e5f0-4c11-b053-6d2096965fa2",
   "metadata": {},
   "outputs": [
    {
     "data": {
      "text/plain": [
       "165754.86"
      ]
     },
     "execution_count": 102,
     "metadata": {},
     "output_type": "execute_result"
    }
   ],
   "source": [
    "X_test[(X_test.Fraud == 1)].Amount.sum()"
   ]
  }
 ],
 "metadata": {
  "kernelspec": {
   "display_name": "Python 3 (ipykernel)",
   "language": "python",
   "name": "python3"
  },
  "language_info": {
   "codemirror_mode": {
    "name": "ipython",
    "version": 3
   },
   "file_extension": ".py",
   "mimetype": "text/x-python",
   "name": "python",
   "nbconvert_exporter": "python",
   "pygments_lexer": "ipython3",
   "version": "3.12.2"
  }
 },
 "nbformat": 4,
 "nbformat_minor": 5
}
