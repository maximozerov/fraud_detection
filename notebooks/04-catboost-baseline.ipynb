{
 "cells": [
  {
   "cell_type": "code",
   "execution_count": 22,
   "id": "28cecd90-3970-4d08-8f93-e4f4de68515e",
   "metadata": {},
   "outputs": [],
   "source": [
    "import pandas as pd\n",
    "import numpy as np\n",
    "\n",
    "from matplotlib import pyplot as plt\n",
    "%matplotlib inline\n",
    "\n",
    "from sklearn.metrics import classification_report, confusion_matrix\n",
    "from sklearn.metrics import ConfusionMatrixDisplay\n",
    "\n",
    "from catboost import CatBoostClassifier"
   ]
  },
  {
   "cell_type": "code",
   "execution_count": 3,
   "id": "26aec16f-9b6d-4a91-ac48-f4d6672ed313",
   "metadata": {},
   "outputs": [],
   "source": [
    "df_train = pd.read_csv('../data/processed/train.csv')\n",
    "df_val = pd.read_csv('../data/processed/val.csv')"
   ]
  },
  {
   "cell_type": "code",
   "execution_count": 4,
   "id": "ba08fbca-ed19-4242-92c5-a8bc5698dd12",
   "metadata": {},
   "outputs": [
    {
     "data": {
      "text/plain": [
       "Index(['User', 'Card', 'Year', 'Month', 'Day', 'Amount', 'Use Chip',\n",
       "       'Merchant Name', 'Merchant City', 'Merchant State', 'Zip', 'MCC',\n",
       "       'Errors?', 'Is Fraud?', 'Hour', 'Minute', 'Date', 'Day of Week'],\n",
       "      dtype='object')"
      ]
     },
     "execution_count": 4,
     "metadata": {},
     "output_type": "execute_result"
    }
   ],
   "source": [
    "df_train.columns"
   ]
  },
  {
   "cell_type": "code",
   "execution_count": 6,
   "id": "14c8bc2e-05d6-4453-a76e-8e071e4b9ab3",
   "metadata": {},
   "outputs": [
    {
     "name": "stdout",
     "output_type": "stream",
     "text": [
      "<class 'pandas.core.frame.DataFrame'>\n",
      "RangeIndex: 5133655 entries, 0 to 5133654\n",
      "Data columns (total 18 columns):\n",
      " #   Column          Dtype  \n",
      "---  ------          -----  \n",
      " 0   User            int64  \n",
      " 1   Card            int64  \n",
      " 2   Year            int64  \n",
      " 3   Month           int64  \n",
      " 4   Day             int64  \n",
      " 5   Amount          float64\n",
      " 6   Use Chip        object \n",
      " 7   Merchant Name   int64  \n",
      " 8   Merchant City   object \n",
      " 9   Merchant State  object \n",
      " 10  Zip             float64\n",
      " 11  MCC             int64  \n",
      " 12  Errors?         object \n",
      " 13  Is Fraud?       int64  \n",
      " 14  Hour            int64  \n",
      " 15  Minute          int64  \n",
      " 16  Date            object \n",
      " 17  Day of Week     object \n",
      "dtypes: float64(2), int64(10), object(6)\n",
      "memory usage: 705.0+ MB\n"
     ]
    }
   ],
   "source": [
    "df_train.info()"
   ]
  },
  {
   "cell_type": "code",
   "execution_count": 7,
   "id": "e6d8e8da-db27-45f6-b20a-f230a2066806",
   "metadata": {},
   "outputs": [],
   "source": [
    "cat_features = [\"User\", \"Card\", \"Merchant Name\", \"Merchant City\", \"Merchant State\", 'MCC', \"Zip\", \n",
    "                'Year', 'Month', 'Day', 'Use Chip', 'Hour', 'Day of Week']\n",
    "num_features = ['Amount']\n",
    "target = 'Is Fraud?'"
   ]
  },
  {
   "cell_type": "code",
   "execution_count": 8,
   "id": "2fcf1ec9-17d1-4424-a868-c00d8fc39a19",
   "metadata": {},
   "outputs": [],
   "source": [
    "for column in cat_features:\n",
    "    df_train[column] = df_train[column].astype('object')\n",
    "    df_val[column] = df_val[column].astype('object')"
   ]
  },
  {
   "cell_type": "code",
   "execution_count": 9,
   "id": "7560e75b-79e8-4cac-92a9-20ae458262db",
   "metadata": {},
   "outputs": [],
   "source": [
    "y_train = df_train[target]\n",
    "y_val = df_val[target]"
   ]
  },
  {
   "cell_type": "code",
   "execution_count": null,
   "id": "70d04fa0-ac47-4e0c-81a3-5e5b7a4b0233",
   "metadata": {},
   "outputs": [],
   "source": []
  },
  {
   "cell_type": "code",
   "execution_count": 10,
   "id": "7013013a-de76-4c10-ad98-d2274461294f",
   "metadata": {},
   "outputs": [],
   "source": [
    "X_train = df_train[cat_features + num_features]\n",
    "X_val = df_val[cat_features + num_features]"
   ]
  },
  {
   "cell_type": "code",
   "execution_count": 13,
   "id": "2b72c66c-2f80-492e-9517-476a72d5ae8e",
   "metadata": {
    "collapsed": true,
    "jupyter": {
     "outputs_hidden": true
    },
    "scrolled": true
   },
   "outputs": [
    {
     "name": "stderr",
     "output_type": "stream",
     "text": [
      "C:\\Users\\lakeo\\AppData\\Local\\Temp\\ipykernel_12400\\3754502966.py:1: SettingWithCopyWarning: \n",
      "A value is trying to be set on a copy of a slice from a DataFrame.\n",
      "Try using .loc[row_indexer,col_indexer] = value instead\n",
      "\n",
      "See the caveats in the documentation: https://pandas.pydata.org/pandas-docs/stable/user_guide/indexing.html#returning-a-view-versus-a-copy\n",
      "  X_train['Merchant State']=X_train['Merchant State'].fillna('unknown')\n",
      "C:\\Users\\lakeo\\AppData\\Local\\Temp\\ipykernel_12400\\3754502966.py:2: SettingWithCopyWarning: \n",
      "A value is trying to be set on a copy of a slice from a DataFrame.\n",
      "Try using .loc[row_indexer,col_indexer] = value instead\n",
      "\n",
      "See the caveats in the documentation: https://pandas.pydata.org/pandas-docs/stable/user_guide/indexing.html#returning-a-view-versus-a-copy\n",
      "  X_train['Zip']=X_train['Merchant State'].fillna('0')\n"
     ]
    }
   ],
   "source": [
    "X_train['Merchant State']=X_train['Merchant State'].fillna('unknown')\n",
    "X_train['Zip']=X_train['Merchant State'].fillna('0')"
   ]
  },
  {
   "cell_type": "code",
   "execution_count": 15,
   "id": "0479da85-130d-453d-90a3-a30e807a569a",
   "metadata": {
    "collapsed": true,
    "jupyter": {
     "outputs_hidden": true
    },
    "scrolled": true
   },
   "outputs": [
    {
     "name": "stderr",
     "output_type": "stream",
     "text": [
      "C:\\Users\\lakeo\\AppData\\Local\\Temp\\ipykernel_12400\\2161902591.py:1: SettingWithCopyWarning: \n",
      "A value is trying to be set on a copy of a slice from a DataFrame.\n",
      "Try using .loc[row_indexer,col_indexer] = value instead\n",
      "\n",
      "See the caveats in the documentation: https://pandas.pydata.org/pandas-docs/stable/user_guide/indexing.html#returning-a-view-versus-a-copy\n",
      "  X_val['Merchant State']=X_val['Merchant State'].fillna('unknown')\n",
      "C:\\Users\\lakeo\\AppData\\Local\\Temp\\ipykernel_12400\\2161902591.py:2: SettingWithCopyWarning: \n",
      "A value is trying to be set on a copy of a slice from a DataFrame.\n",
      "Try using .loc[row_indexer,col_indexer] = value instead\n",
      "\n",
      "See the caveats in the documentation: https://pandas.pydata.org/pandas-docs/stable/user_guide/indexing.html#returning-a-view-versus-a-copy\n",
      "  X_val['Zip']=X_val['Merchant State'].fillna('0')\n"
     ]
    }
   ],
   "source": [
    "X_val['Merchant State']=X_val['Merchant State'].fillna('unknown')\n",
    "X_val['Zip']=X_val['Merchant State'].fillna('0')"
   ]
  },
  {
   "cell_type": "code",
   "execution_count": null,
   "id": "04e4be31-a971-46d0-963f-d79cf7fcbe67",
   "metadata": {},
   "outputs": [],
   "source": []
  },
  {
   "cell_type": "code",
   "execution_count": 16,
   "id": "6d60341e-3268-4675-83f3-945fabf0c15a",
   "metadata": {},
   "outputs": [],
   "source": [
    "from catboost import CatBoostClassifier"
   ]
  },
  {
   "cell_type": "code",
   "execution_count": 17,
   "id": "59b09c7e-b961-4483-8cb6-04052747f36f",
   "metadata": {},
   "outputs": [
    {
     "name": "stdout",
     "output_type": "stream",
     "text": [
      "0:\tlearn: 0.5986651\ttest: 0.5986773\tbest: 0.5986773 (0)\ttotal: 606ms\tremaining: 60s\n",
      "5:\tlearn: 0.3156190\ttest: 0.3156795\tbest: 0.3156795 (5)\ttotal: 2.87s\tremaining: 45s\n",
      "10:\tlearn: 0.1801225\ttest: 0.1802244\tbest: 0.1802244 (10)\ttotal: 4.2s\tremaining: 34s\n",
      "15:\tlearn: 0.1072839\ttest: 0.1173799\tbest: 0.1173799 (15)\ttotal: 5.74s\tremaining: 30.1s\n",
      "20:\tlearn: 0.0658414\ttest: 0.0787205\tbest: 0.0787205 (20)\ttotal: 7.62s\tremaining: 28.7s\n",
      "25:\tlearn: 0.0416213\ttest: 0.0481051\tbest: 0.0481051 (25)\ttotal: 10.4s\tremaining: 29.6s\n",
      "30:\tlearn: 0.0274392\ttest: 0.0302148\tbest: 0.0302148 (30)\ttotal: 13.1s\tremaining: 29.1s\n",
      "35:\tlearn: 0.0188528\ttest: 0.0197311\tbest: 0.0197311 (35)\ttotal: 15.8s\tremaining: 28s\n",
      "40:\tlearn: 0.0137664\ttest: 0.0131665\tbest: 0.0131665 (40)\ttotal: 18.5s\tremaining: 26.6s\n",
      "45:\tlearn: 0.0104668\ttest: 0.0092354\tbest: 0.0092354 (45)\ttotal: 21.3s\tremaining: 25s\n",
      "50:\tlearn: 0.0085963\ttest: 0.0067889\tbest: 0.0067889 (50)\ttotal: 24.1s\tremaining: 23.1s\n",
      "55:\tlearn: 0.0074457\ttest: 0.0054839\tbest: 0.0054839 (55)\ttotal: 26.9s\tremaining: 21.1s\n",
      "60:\tlearn: 0.0065272\ttest: 0.0045884\tbest: 0.0045884 (60)\ttotal: 29.5s\tremaining: 18.9s\n",
      "65:\tlearn: 0.0060774\ttest: 0.0039628\tbest: 0.0039628 (65)\ttotal: 32.2s\tremaining: 16.6s\n",
      "70:\tlearn: 0.0058019\ttest: 0.0035986\tbest: 0.0035986 (70)\ttotal: 34.9s\tremaining: 14.3s\n",
      "75:\tlearn: 0.0056241\ttest: 0.0033513\tbest: 0.0033513 (75)\ttotal: 37.7s\tremaining: 11.9s\n",
      "80:\tlearn: 0.0055154\ttest: 0.0032313\tbest: 0.0032313 (80)\ttotal: 40.4s\tremaining: 9.48s\n",
      "85:\tlearn: 0.0054112\ttest: 0.0031536\tbest: 0.0031338 (84)\ttotal: 43.2s\tremaining: 7.03s\n",
      "90:\tlearn: 0.0053381\ttest: 0.0030765\tbest: 0.0030575 (89)\ttotal: 45.9s\tremaining: 4.54s\n",
      "95:\tlearn: 0.0052793\ttest: 0.0029597\tbest: 0.0029597 (95)\ttotal: 48.7s\tremaining: 2.03s\n",
      "99:\tlearn: 0.0052164\ttest: 0.0029497\tbest: 0.0029257 (98)\ttotal: 50.8s\tremaining: 0us\n",
      "\n",
      "bestTest = 0.002925661838\n",
      "bestIteration = 98\n",
      "\n",
      "Shrink model to first 99 iterations.\n"
     ]
    },
    {
     "data": {
      "text/plain": [
       "<catboost.core.CatBoostClassifier at 0x25229e2d250>"
      ]
     },
     "execution_count": 17,
     "metadata": {},
     "output_type": "execute_result"
    }
   ],
   "source": [
    "clf = CatBoostClassifier(\n",
    "    iterations=100,\n",
    "    learning_rate=0.1\n",
    ")\n",
    "\n",
    "clf.fit(X_train, y_train,\n",
    "       cat_features=cat_features,\n",
    "       eval_set=(X_val, y_val),\n",
    "       verbose=5)"
   ]
  },
  {
   "cell_type": "code",
   "execution_count": 20,
   "id": "c434ef1a-efc8-4945-912a-a633347cca12",
   "metadata": {},
   "outputs": [],
   "source": [
    "preds_val = clf.predict(data=X_val)"
   ]
  },
  {
   "cell_type": "code",
   "execution_count": 21,
   "id": "4abaec2b-8d11-4dae-be66-9f7b2b1eb4b5",
   "metadata": {},
   "outputs": [
    {
     "name": "stdout",
     "output_type": "stream",
     "text": [
      "              precision    recall  f1-score   support\n",
      "\n",
      "           0       1.00      1.00      1.00   1719124\n",
      "           1       0.88      0.50      0.63      2491\n",
      "\n",
      "    accuracy                           1.00   1721615\n",
      "   macro avg       0.94      0.75      0.82   1721615\n",
      "weighted avg       1.00      1.00      1.00   1721615\n",
      "\n"
     ]
    }
   ],
   "source": [
    "print(classification_report(y_val, preds_val))"
   ]
  },
  {
   "cell_type": "code",
   "execution_count": 23,
   "id": "e196e10f-669c-4b46-b201-5e117a67b6ea",
   "metadata": {},
   "outputs": [
    {
     "name": "stdout",
     "output_type": "stream",
     "text": [
      "[[1718958     166]\n",
      " [   1257    1234]]\n"
     ]
    }
   ],
   "source": [
    "print(confusion_matrix(y_val, preds_val))"
   ]
  },
  {
   "cell_type": "code",
   "execution_count": 26,
   "id": "7170f9ec-4f48-40fd-a692-8845051854a6",
   "metadata": {},
   "outputs": [
    {
     "data": {
      "image/png": "[encoded data removed]",
      "text/plain": [
       "<Figure size 640x480 with 2 Axes>"
      ]
     },
     "metadata": {},
     "output_type": "display_data"
    }
   ],
   "source": [
    "disp = ConfusionMatrixDisplay(confusion_matrix=confusion_matrix(y_val, preds_val))\n",
    "disp.plot()\n",
    "plt.show()"
   ]
  },
  {
   "cell_type": "code",
   "execution_count": 27,
   "id": "f3e3baea-a6ad-41c1-8aaf-8c6ba0ae1b1b",
   "metadata": {},
   "outputs": [],
   "source": [
    "from sklearn.metrics import roc_auc_score"
   ]
  },
  {
   "cell_type": "code",
   "execution_count": 28,
   "id": "6d45f290-d8ff-4de1-8e3b-5c9d2b36dda6",
   "metadata": {},
   "outputs": [
    {
     "data": {
      "text/plain": [
       "0.7476434096810284"
      ]
     },
     "execution_count": 28,
     "metadata": {},
     "output_type": "execute_result"
    }
   ],
   "source": [
    "roc_auc_score(y_val, preds_val)"
   ]
  },
  {
   "cell_type": "code",
   "execution_count": null,
   "id": "0fc4feee-e601-40f8-b3dd-1137d83762af",
   "metadata": {},
   "outputs": [],
   "source": []
  },
  {
   "cell_type": "code",
   "execution_count": 29,
   "id": "f626f71f-d73e-4496-b675-98ef57faa763",
   "metadata": {},
   "outputs": [],
   "source": [
    "df_test = pd.read_csv('../data/processed/test.csv')"
   ]
  },
  {
   "cell_type": "code",
   "execution_count": 30,
   "id": "7105d46d-789a-4b25-a77f-04b35c1daaa9",
   "metadata": {},
   "outputs": [],
   "source": [
    "y_test = df_test[target]"
   ]
  },
  {
   "cell_type": "code",
   "execution_count": 32,
   "id": "56b6ede1-d037-497f-9dc9-53397af021f6",
   "metadata": {},
   "outputs": [],
   "source": [
    "for column in cat_features:\n",
    "    df_test[column] = df_test[column].astype('object')"
   ]
  },
  {
   "cell_type": "code",
   "execution_count": 33,
   "id": "cde4045a-5e6f-4927-aac9-8ef3a67a6c3c",
   "metadata": {},
   "outputs": [],
   "source": [
    "X_test = df_test[cat_features + num_features]"
   ]
  },
  {
   "cell_type": "code",
   "execution_count": 35,
   "id": "50f0b8e6-8e1a-4e17-ab2e-efe25c26e852",
   "metadata": {
    "collapsed": true,
    "jupyter": {
     "outputs_hidden": true
    }
   },
   "outputs": [
    {
     "name": "stderr",
     "output_type": "stream",
     "text": [
      "C:\\Users\\lakeo\\AppData\\Local\\Temp\\ipykernel_12400\\2426568702.py:1: SettingWithCopyWarning: \n",
      "A value is trying to be set on a copy of a slice from a DataFrame.\n",
      "Try using .loc[row_indexer,col_indexer] = value instead\n",
      "\n",
      "See the caveats in the documentation: https://pandas.pydata.org/pandas-docs/stable/user_guide/indexing.html#returning-a-view-versus-a-copy\n",
      "  X_test['Merchant State']=X_test['Merchant State'].fillna('unknown')\n",
      "C:\\Users\\lakeo\\AppData\\Local\\Temp\\ipykernel_12400\\2426568702.py:2: SettingWithCopyWarning: \n",
      "A value is trying to be set on a copy of a slice from a DataFrame.\n",
      "Try using .loc[row_indexer,col_indexer] = value instead\n",
      "\n",
      "See the caveats in the documentation: https://pandas.pydata.org/pandas-docs/stable/user_guide/indexing.html#returning-a-view-versus-a-copy\n",
      "  X_test['Zip']=X_test['Merchant State'].fillna('0')\n"
     ]
    }
   ],
   "source": [
    "X_test['Merchant State']=X_test['Merchant State'].fillna('unknown')\n",
    "X_test['Zip']=X_test['Merchant State'].fillna('0')"
   ]
  },
  {
   "cell_type": "code",
   "execution_count": 36,
   "id": "0859a183-336e-44b5-97dd-dae5da0fe590",
   "metadata": {},
   "outputs": [],
   "source": [
    "preds_test = clf.predict(data=X_test)"
   ]
  },
  {
   "cell_type": "code",
   "execution_count": 37,
   "id": "97d205e0-3cad-40c2-b9ca-10091059651d",
   "metadata": {},
   "outputs": [
    {
     "name": "stdout",
     "output_type": "stream",
     "text": [
      "              precision    recall  f1-score   support\n",
      "\n",
      "           0       1.00      1.00      1.00   1721851\n",
      "           1       0.87      0.51      0.65      2087\n",
      "\n",
      "    accuracy                           1.00   1723938\n",
      "   macro avg       0.94      0.76      0.82   1723938\n",
      "weighted avg       1.00      1.00      1.00   1723938\n",
      "\n"
     ]
    }
   ],
   "source": [
    "print(classification_report(y_test, preds_test))"
   ]
  },
  {
   "cell_type": "code",
   "execution_count": 38,
   "id": "46d5a136-92a1-4f5b-a9ea-7333590acdd5",
   "metadata": {},
   "outputs": [
    {
     "name": "stdout",
     "output_type": "stream",
     "text": [
      "[[1721695     156]\n",
      " [   1014    1073]]\n"
     ]
    }
   ],
   "source": [
    "print(confusion_matrix(y_test, preds_test))"
   ]
  },
  {
   "cell_type": "code",
   "execution_count": 40,
   "id": "44d690cd-64e0-4b5f-a360-64af5dce100b",
   "metadata": {},
   "outputs": [
    {
     "data": {
      "image/png": "[encoded data removed]",
      "text/plain": [
       "<Figure size 640x480 with 2 Axes>"
      ]
     },
     "metadata": {},
     "output_type": "display_data"
    }
   ],
   "source": [
    "disp = ConfusionMatrixDisplay(confusion_matrix=confusion_matrix(y_test, preds_test))\n",
    "disp.plot()\n",
    "plt.show()"
   ]
  },
  {
   "cell_type": "code",
   "execution_count": 41,
   "id": "21e44d77-96bc-40db-9d61-6fc29fa2198d",
   "metadata": {},
   "outputs": [
    {
     "data": {
      "text/plain": [
       "0.757022261005536"
      ]
     },
     "execution_count": 41,
     "metadata": {},
     "output_type": "execute_result"
    }
   ],
   "source": [
    "roc_auc_score(y_test, preds_test)"
   ]
  },
  {
   "cell_type": "code",
   "execution_count": 44,
   "id": "a6dfeefd-68d6-4797-b1f1-7061936e800e",
   "metadata": {},
   "outputs": [
    {
     "name": "stderr",
     "output_type": "stream",
     "text": [
      "C:\\Users\\lakeo\\AppData\\Local\\Temp\\ipykernel_12400\\3997830718.py:1: UserWarning: Pandas doesn't allow columns to be created via a new attribute name - see https://pandas.pydata.org/pandas-docs/stable/indexing.html#attribute-access\n",
      "  X_test.Fraud = y_test\n"
     ]
    },
    {
     "data": {
      "text/plain": [
       "99275.81"
      ]
     },
     "execution_count": 44,
     "metadata": {},
     "output_type": "execute_result"
    }
   ],
   "source": [
    "X_test.Fraud = y_test\n",
    "X_test.Prediction = preds_test\n",
    "X_test[(X_test.Fraud == 1) & (X_test.Prediction == 1)].Amount.sum()"
   ]
  },
  {
   "cell_type": "code",
   "execution_count": 45,
   "id": "2a603815-5b61-4517-8b32-86465646e46c",
   "metadata": {},
   "outputs": [
    {
     "data": {
      "text/plain": [
       "165754.86"
      ]
     },
     "execution_count": 45,
     "metadata": {},
     "output_type": "execute_result"
    }
   ],
   "source": [
    "X_test[(X_test.Fraud == 1)].Amount.sum()"
   ]
  },
  {
   "cell_type": "code",
   "execution_count": 46,
   "id": "970e07c7-da99-40b6-bc8c-ab6c423fd1e2",
   "metadata": {},
   "outputs": [
    {
     "data": {
      "text/plain": [
       "0.5989315185087183"
      ]
     },
     "execution_count": 46,
     "metadata": {},
     "output_type": "execute_result"
    }
   ],
   "source": [
    "X_test[(X_test.Fraud == 1) & (X_test.Prediction == 1)].Amount.sum() / X_test[(X_test.Fraud == 1)].Amount.sum()"
   ]
  },
  {
   "cell_type": "code",
   "execution_count": null,
   "id": "0c37bc0b-05f9-4842-9ef9-5904759f1146",
   "metadata": {},
   "outputs": [],
   "source": []
  },
  {
   "cell_type": "code",
   "execution_count": null,
   "id": "6913e5d8-7dad-4ef7-a3dc-494883800a3a",
   "metadata": {},
   "outputs": [],
   "source": []
  },
  {
   "cell_type": "code",
   "execution_count": null,
   "id": "cbd93518-6f18-4216-9a3a-411667d699e4",
   "metadata": {},
   "outputs": [],
   "source": []
  },
  {
   "cell_type": "code",
   "execution_count": null,
   "id": "a34bc121-e951-44df-a898-2fd53fb46ec8",
   "metadata": {},
   "outputs": [],
   "source": []
  },
  {
   "cell_type": "code",
   "execution_count": null,
   "id": "5b0dbcdd-84c4-4f74-a2bf-3a8e86baaf0d",
   "metadata": {},
   "outputs": [],
   "source": []
  },
  {
   "cell_type": "code",
   "execution_count": 67,
   "id": "39f034f4-1964-4569-9659-8024c6f93f51",
   "metadata": {},
   "outputs": [],
   "source": [
    "from sklearn.metrics import ConfusionMatrixDisplay"
   ]
  },
  {
   "cell_type": "code",
   "execution_count": 87,
   "id": "a8c8fb65-82e7-41f0-9f76-6da88d03b80b",
   "metadata": {},
   "outputs": [
    {
     "name": "stderr",
     "output_type": "stream",
     "text": [
      "/var/folders/4k/mwht33nx1y3874hyv4dvd6x00000gn/T/ipykernel_7167/2607284807.py:1: SettingWithCopyWarning: \n",
      "A value is trying to be set on a copy of a slice from a DataFrame.\n",
      "Try using .loc[row_indexer,col_indexer] = value instead\n",
      "\n",
      "See the caveats in the documentation: https://pandas.pydata.org/pandas-docs/stable/user_guide/indexing.html#returning-a-view-versus-a-copy\n",
      "  X_test['Fraud'] = y_test\n"
     ]
    }
   ],
   "source": [
    "X_test['Fraud'] = y_test"
   ]
  },
  {
   "cell_type": "code",
   "execution_count": 90,
   "id": "1521f84d-ef00-4423-9266-a0d9ab7b4525",
   "metadata": {},
   "outputs": [
    {
     "data": {
      "text/plain": [
       "160169.75"
      ]
     },
     "execution_count": 90,
     "metadata": {},
     "output_type": "execute_result"
    }
   ],
   "source": [
    "X_test[(X_test.Fraud == 1) & (X_test.Prediction == 1)].Amount.sum()"
   ]
  },
  {
   "cell_type": "code",
   "execution_count": 91,
   "id": "ede386c4-b422-4925-870a-ea7d0264cdad",
   "metadata": {},
   "outputs": [
    {
     "data": {
      "text/plain": [
       "165754.86"
      ]
     },
     "execution_count": 91,
     "metadata": {},
     "output_type": "execute_result"
    }
   ],
   "source": [
    "X_test[(X_test.Fraud == 1)].Amount.sum()"
   ]
  },
  {
   "cell_type": "code",
   "execution_count": null,
   "id": "9f27ad31-ae26-456a-9669-d5ad0b3894ae",
   "metadata": {},
   "outputs": [],
   "source": []
  },
  {
   "cell_type": "code",
   "execution_count": 93,
   "id": "a8d830e5-1f8d-4a59-81c2-ceb38d337304",
   "metadata": {},
   "outputs": [],
   "source": [
    "## Dealing with imbalanced classes"
   ]
  },
  {
   "cell_type": "code",
   "execution_count": 94,
   "id": "f9e459d1-dc14-442d-8ed5-a68aa17f47e4",
   "metadata": {},
   "outputs": [
    {
     "name": "stdout",
     "output_type": "stream",
     "text": [
      "0:\tlearn: 0.6070994\ttest: 0.6066060\tbest: 0.6066060 (0)\ttotal: 297ms\tremaining: 29.4s\n",
      "5:\tlearn: 0.3552831\ttest: 0.3516511\tbest: 0.3516511 (5)\ttotal: 923ms\tremaining: 14.5s\n",
      "10:\tlearn: 0.2303576\ttest: 0.2258084\tbest: 0.2258084 (10)\ttotal: 1.54s\tremaining: 12.5s\n",
      "15:\tlearn: 0.1647393\ttest: 0.1599316\tbest: 0.1599316 (15)\ttotal: 2.14s\tremaining: 11.3s\n",
      "20:\tlearn: 0.1143719\ttest: 0.1122591\tbest: 0.1122591 (20)\ttotal: 2.84s\tremaining: 10.7s\n",
      "25:\tlearn: 0.0872219\ttest: 0.0862086\tbest: 0.0862086 (25)\ttotal: 3.52s\tremaining: 10s\n",
      "30:\tlearn: 0.0717701\ttest: 0.0717308\tbest: 0.0717308 (30)\ttotal: 4.27s\tremaining: 9.51s\n",
      "35:\tlearn: 0.0605523\ttest: 0.0530054\tbest: 0.0530054 (35)\ttotal: 4.94s\tremaining: 8.78s\n",
      "40:\tlearn: 0.0539769\ttest: 0.0475722\tbest: 0.0475722 (40)\ttotal: 5.61s\tremaining: 8.08s\n",
      "45:\tlearn: 0.0478240\ttest: 0.0426005\tbest: 0.0426005 (45)\ttotal: 6.37s\tremaining: 7.48s\n",
      "50:\tlearn: 0.0436561\ttest: 0.0393330\tbest: 0.0393330 (50)\ttotal: 7.04s\tremaining: 6.76s\n",
      "55:\tlearn: 0.0414151\ttest: 0.0377466\tbest: 0.0377353 (54)\ttotal: 7.72s\tremaining: 6.07s\n",
      "60:\tlearn: 0.0396248\ttest: 0.0361392\tbest: 0.0361392 (60)\ttotal: 8.39s\tremaining: 5.37s\n",
      "65:\tlearn: 0.0378857\ttest: 0.0348293\tbest: 0.0348293 (65)\ttotal: 9s\tremaining: 4.64s\n",
      "70:\tlearn: 0.0362901\ttest: 0.0335635\tbest: 0.0335635 (70)\ttotal: 9.71s\tremaining: 3.97s\n",
      "75:\tlearn: 0.0358334\ttest: 0.0329858\tbest: 0.0329858 (75)\ttotal: 10.3s\tremaining: 3.25s\n",
      "80:\tlearn: 0.0343745\ttest: 0.0327386\tbest: 0.0327386 (80)\ttotal: 11s\tremaining: 2.58s\n",
      "85:\tlearn: 0.0333593\ttest: 0.0319738\tbest: 0.0319735 (84)\ttotal: 11.7s\tremaining: 1.9s\n",
      "90:\tlearn: 0.0323111\ttest: 0.0312498\tbest: 0.0312495 (89)\ttotal: 12.2s\tremaining: 1.21s\n",
      "95:\tlearn: 0.0312350\ttest: 0.0307438\tbest: 0.0307438 (95)\ttotal: 12.8s\tremaining: 532ms\n",
      "99:\tlearn: 0.0308112\ttest: 0.0304519\tbest: 0.0304519 (99)\ttotal: 13.3s\tremaining: 0us\n",
      "\n",
      "bestTest = 0.03045191195\n",
      "bestIteration = 99\n",
      "\n"
     ]
    },
    {
     "data": {
      "text/plain": [
       "<catboost.core.CatBoostClassifier at 0x35fcb4530>"
      ]
     },
     "execution_count": 94,
     "metadata": {},
     "output_type": "execute_result"
    }
   ],
   "source": [
    "clf2 = CatBoostClassifier(\n",
    "    iterations=100,\n",
    "    learning_rate=0.1,\n",
    "    auto_class_weights='Balanced'\n",
    ")\n",
    "\n",
    "clf2.fit(X_train, y_train,\n",
    "       cat_features=cat_features,\n",
    "       eval_set=(X_val, y_val),\n",
    "       verbose=5)"
   ]
  },
  {
   "cell_type": "code",
   "execution_count": 95,
   "id": "e0bd874d-ea03-45ea-b6a0-dfd5612e0503",
   "metadata": {},
   "outputs": [],
   "source": [
    "preds2 = clf2.predict(data=X_test)"
   ]
  },
  {
   "cell_type": "code",
   "execution_count": 96,
   "id": "56697f1b-291c-4035-87f0-b84749507658",
   "metadata": {},
   "outputs": [
    {
     "name": "stdout",
     "output_type": "stream",
     "text": [
      "              precision    recall  f1-score   support\n",
      "\n",
      "           0       1.00      0.99      1.00   1721851\n",
      "           1       0.12      1.00      0.21      2087\n",
      "\n",
      "    accuracy                           0.99   1723938\n",
      "   macro avg       0.56      1.00      0.60   1723938\n",
      "weighted avg       1.00      0.99      0.99   1723938\n",
      "\n"
     ]
    }
   ],
   "source": [
    "print(classification_report(y_test, preds2))"
   ]
  },
  {
   "cell_type": "code",
   "execution_count": 97,
   "id": "b2363967-5018-452e-aaf2-f56182d6a81e",
   "metadata": {},
   "outputs": [
    {
     "data": {
      "image/png": "[encoded data removed]",
      "text/plain": [
       "<Figure size 640x480 with 2 Axes>"
      ]
     },
     "metadata": {},
     "output_type": "display_data"
    }
   ],
   "source": [
    "disp = ConfusionMatrixDisplay(confusion_matrix=confusion_matrix(y_test, preds2))\n",
    "disp.plot()\n",
    "plt.show()"
   ]
  },
  {
   "cell_type": "code",
   "execution_count": 98,
   "id": "afbb31c1-90a8-4720-9db2-8dabb9fcebcb",
   "metadata": {},
   "outputs": [
    {
     "name": "stdout",
     "output_type": "stream",
     "text": [
      "0:\tlearn: 0.6079267\ttest: 0.6081116\tbest: 0.6081116 (0)\ttotal: 257ms\tremaining: 25.4s\n",
      "5:\tlearn: 0.3362484\ttest: 0.3366039\tbest: 0.3366039 (5)\ttotal: 825ms\tremaining: 12.9s\n",
      "10:\tlearn: 0.1909648\ttest: 0.1909251\tbest: 0.1909251 (10)\ttotal: 1.45s\tremaining: 11.7s\n",
      "15:\tlearn: 0.1140746\ttest: 0.1138350\tbest: 0.1138350 (15)\ttotal: 2s\tremaining: 10.5s\n",
      "20:\tlearn: 0.0708890\ttest: 0.0705109\tbest: 0.0705109 (20)\ttotal: 2.54s\tremaining: 9.57s\n",
      "25:\tlearn: 0.0459651\ttest: 0.0454927\tbest: 0.0454927 (25)\ttotal: 3.22s\tremaining: 9.17s\n",
      "30:\tlearn: 0.0313242\ttest: 0.0308536\tbest: 0.0308536 (30)\ttotal: 3.94s\tremaining: 8.76s\n",
      "35:\tlearn: 0.0225444\ttest: 0.0221166\tbest: 0.0221166 (35)\ttotal: 4.65s\tremaining: 8.27s\n",
      "40:\tlearn: 0.0168383\ttest: 0.0166940\tbest: 0.0166940 (40)\ttotal: 5.41s\tremaining: 7.79s\n",
      "45:\tlearn: 0.0137451\ttest: 0.0136616\tbest: 0.0136616 (45)\ttotal: 6.22s\tremaining: 7.3s\n",
      "50:\tlearn: 0.0116408\ttest: 0.0117244\tbest: 0.0117244 (50)\ttotal: 6.95s\tremaining: 6.67s\n",
      "55:\tlearn: 0.0102972\ttest: 0.0101792\tbest: 0.0101792 (55)\ttotal: 7.72s\tremaining: 6.07s\n",
      "60:\tlearn: 0.0093254\ttest: 0.0092399\tbest: 0.0092399 (60)\ttotal: 8.5s\tremaining: 5.43s\n",
      "65:\tlearn: 0.0087568\ttest: 0.0087108\tbest: 0.0087108 (65)\ttotal: 9.29s\tremaining: 4.79s\n",
      "70:\tlearn: 0.0082838\ttest: 0.0082117\tbest: 0.0082117 (70)\ttotal: 10s\tremaining: 4.1s\n",
      "75:\tlearn: 0.0079554\ttest: 0.0079411\tbest: 0.0079411 (75)\ttotal: 10.8s\tremaining: 3.41s\n",
      "80:\tlearn: 0.0077019\ttest: 0.0076842\tbest: 0.0076842 (80)\ttotal: 11.6s\tremaining: 2.72s\n",
      "85:\tlearn: 0.0074981\ttest: 0.0074693\tbest: 0.0074693 (85)\ttotal: 12.3s\tremaining: 2.01s\n",
      "90:\tlearn: 0.0073594\ttest: 0.0073502\tbest: 0.0073502 (90)\ttotal: 13.1s\tremaining: 1.3s\n",
      "95:\tlearn: 0.0072138\ttest: 0.0071916\tbest: 0.0071916 (95)\ttotal: 13.9s\tremaining: 578ms\n",
      "99:\tlearn: 0.0070492\ttest: 0.0070700\tbest: 0.0070700 (99)\ttotal: 14.5s\tremaining: 0us\n",
      "\n",
      "bestTest = 0.007069962292\n",
      "bestIteration = 99\n",
      "\n"
     ]
    },
    {
     "data": {
      "text/plain": [
       "<catboost.core.CatBoostClassifier at 0x35fdde7e0>"
      ]
     },
     "execution_count": 98,
     "metadata": {},
     "output_type": "execute_result"
    }
   ],
   "source": [
    "clf3 = CatBoostClassifier(\n",
    "    iterations=100,\n",
    "    learning_rate=0.1,\n",
    "    auto_class_weights='SqrtBalanced'\n",
    ")\n",
    "\n",
    "clf3.fit(X_train, y_train,\n",
    "       cat_features=cat_features,\n",
    "       eval_set=(X_val, y_val),\n",
    "       verbose=5)"
   ]
  },
  {
   "cell_type": "code",
   "execution_count": 99,
   "id": "282e9375-bda5-455d-bb03-f7738b069ff8",
   "metadata": {},
   "outputs": [],
   "source": [
    "preds3 = clf3.predict(data=X_test)"
   ]
  },
  {
   "cell_type": "code",
   "execution_count": 100,
   "id": "8454041c-6b0c-44ad-8262-d9d32600e343",
   "metadata": {},
   "outputs": [
    {
     "name": "stdout",
     "output_type": "stream",
     "text": [
      "              precision    recall  f1-score   support\n",
      "\n",
      "           0       1.00      1.00      1.00   1721851\n",
      "           1       0.71      1.00      0.83      2087\n",
      "\n",
      "    accuracy                           1.00   1723938\n",
      "   macro avg       0.86      1.00      0.92   1723938\n",
      "weighted avg       1.00      1.00      1.00   1723938\n",
      "\n"
     ]
    },
    {
     "data": {
      "image/png": "[encoded data removed]",
      "text/plain": [
       "<Figure size 640x480 with 2 Axes>"
      ]
     },
     "metadata": {},
     "output_type": "display_data"
    }
   ],
   "source": [
    "print(classification_report(y_test, preds3))\n",
    "disp = ConfusionMatrixDisplay(confusion_matrix=confusion_matrix(y_test, preds3))\n",
    "disp.plot()\n",
    "plt.show()"
   ]
  },
  {
   "cell_type": "code",
   "execution_count": 101,
   "id": "a2cb46f1-b068-461c-9e4c-18332d323500",
   "metadata": {},
   "outputs": [
    {
     "name": "stderr",
     "output_type": "stream",
     "text": [
      "/var/folders/4k/mwht33nx1y3874hyv4dvd6x00000gn/T/ipykernel_7167/3955559077.py:1: SettingWithCopyWarning: \n",
      "A value is trying to be set on a copy of a slice from a DataFrame.\n",
      "Try using .loc[row_indexer,col_indexer] = value instead\n",
      "\n",
      "See the caveats in the documentation: https://pandas.pydata.org/pandas-docs/stable/user_guide/indexing.html#returning-a-view-versus-a-copy\n",
      "  X_test.Prediction = preds3\n"
     ]
    },
    {
     "data": {
      "text/plain": [
       "165954.37"
      ]
     },
     "execution_count": 101,
     "metadata": {},
     "output_type": "execute_result"
    }
   ],
   "source": [
    "X_test.Prediction = preds3\n",
    "X_test[(X_test.Fraud == 1) & (X_test.Prediction == 1)].Amount.sum()"
   ]
  },
  {
   "cell_type": "code",
   "execution_count": 102,
   "id": "dc2dfea4-e5f0-4c11-b053-6d2096965fa2",
   "metadata": {},
   "outputs": [
    {
     "data": {
      "text/plain": [
       "165754.86"
      ]
     },
     "execution_count": 102,
     "metadata": {},
     "output_type": "execute_result"
    }
   ],
   "source": [
    "X_test[(X_test.Fraud == 1)].Amount.sum()"
   ]
  }
 ],
 "metadata": {
  "kernelspec": {
   "display_name": "Python 3 (ipykernel)",
   "language": "python",
   "name": "python3"
  },
  "language_info": {
   "codemirror_mode": {
    "name": "ipython",
    "version": 3
   },
   "file_extension": ".py",
   "mimetype": "text/x-python",
   "name": "python",
   "nbconvert_exporter": "python",
   "pygments_lexer": "ipython3",
   "version": "3.12.3"
  }
 },
 "nbformat": 4,
 "nbformat_minor": 5
}
